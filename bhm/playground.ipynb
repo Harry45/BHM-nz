{
 "cells": [
  {
   "cell_type": "code",
   "execution_count": 1,
   "metadata": {},
   "outputs": [],
   "source": [
    "import sys \n",
    "import os \n",
    "import pickle\n",
    "import random\n",
    "import numpy as np \n",
    "from astropy.io import fits\n",
    "from astropy.coordinates import SkyCoord  \n",
    "import astropy.units as u\n",
    "import matplotlib.pylab as plt \n",
    "import pandas as pd \n",
    "\n",
    "plt.rc('text', usetex=True) # - Imperial cluster cannot find Latex\n",
    "plt.rc('font',**{'family':'sans-serif','serif':['Palatino']})\n",
    "figSize  = (12, 8)\n",
    "fontSize = 20"
   ]
  },
  {
   "cell_type": "markdown",
   "metadata": {},
   "source": [
    "# Notes\n",
    "Important columns identified in the catalogue.\n",
    "\n",
    "## Positions on the sky\n",
    "- ALPHA_J2000 (deg)\n",
    "- DELTA_J2000 (deg)\n",
    "\n",
    "## Ellipticities and Weights\n",
    "- e1\n",
    "- e2\n",
    "- weight\n",
    "\n",
    "## Flux\n",
    "- FLUX_GAAP_u (count)\n",
    "- FLUX_GAAP_g (count)\n",
    "- FLUX_GAAP_r (count)\n",
    "- FLUX_GAAP_i (count)\n",
    "- FLUX_GAAP_Z (count)\n",
    "- FLUX_GAAP_Y (count)\n",
    "- FLUX_GAAP_J (count)\n",
    "- FLUX_GAAP_H (count)\n",
    "- FLUX_GAAP_Ks (count)\n",
    "\n",
    "## Flux Errors\n",
    "- FLUXERR_GAAP_u (count)\n",
    "- FLUXERR_GAAP_g (count)\n",
    "- FLUXERR_GAAP_r (count)\n",
    "- FLUXERR_GAAP_i (count)\n",
    "- FLUXERR_GAAP_Z (count)\n",
    "- FLUXERR_GAAP_Y (count)\n",
    "- FLUXERR_GAAP_J (count)\n",
    "- FLUXERR_GAAP_H (count)\n",
    "- FLUXERR_GAAP_Ks (count)\n",
    "\n",
    "## Magnitude\n",
    "- MAG_GAAP_u (mag)\n",
    "- MAG_GAAP_g (mag)\n",
    "- MAG_GAAP_r (mag)\n",
    "- MAG_GAAP_i (mag)\n",
    "- MAG_GAAP_Z (mag)\n",
    "- MAG_GAAP_Y (mag)\n",
    "- MAG_GAAP_J (mag)\n",
    "- MAG_GAAP_H (mag)\n",
    "- MAG_GAAP_Ks (mag)\n",
    "\n",
    "## Magnitude Error\n",
    "- MAGERR_GAAP_u (mag)\n",
    "- MAGERR_GAAP_g (mag)\n",
    "- MAGERR_GAAP_r (mag)\n",
    "- MAGERR_GAAP_i (mag)\n",
    "- MAGERR_GAAP_Z (mag)\n",
    "- MAGERR_GAAP_Y (mag)\n",
    "- MAGERR_GAAP_J (mag)\n",
    "- MAGERR_GAAP_H (mag)\n",
    "- MAGERR_GAAP_Ks (mag)\n",
    "\n",
    "## Magnitude Limit\n",
    "- MAG_LIM_u (mag)\n",
    "- MAG_LIM_g (mag)\n",
    "- MAG_LIM_r (mag)\n",
    "- MAG_LIM_i (mag)\n",
    "- MAG_LIM_Z (mag)\n",
    "- MAG_LIM_Y (mag)\n",
    "- MAG_LIM_J (mag)\n",
    "- MAG_LIM_H (mag)\n",
    "- MAG_LIM_Ks (mag)\n",
    "\n",
    "## Flag (all of them 0)\n",
    "- FLAG_GAAP_u\n",
    "- FLAG_GAAP_g\n",
    "- FLAG_GAAP_r\n",
    "- FLAG_GAAP_i\n",
    "- FLAG_GAAP_Z\n",
    "- FLAG_GAAP_Y\n",
    "- FLAG_GAAP_J\n",
    "- FLAG_GAAP_H\n",
    "- FLAG_GAAP_Ks\n",
    "\n",
    "## BPZ\n",
    "- M_0 (reference magnitude for BPZ prior)\n",
    "- Z_B (9 band BPZ redshift estimate - peak of posterior)\n",
    "- Z_ML (9 band BPZ maximum likelihood redshift)\n",
    "- Z_B_MIN (lower bound of the 68% confidence interval of Z_B)\n",
    "- Z_B_MAX (upper bound of the 68% confidence interval of Z_B)"
   ]
  },
  {
   "cell_type": "markdown",
   "metadata": {},
   "source": [
    "# Plot Objects on the Sky\n",
    "\n",
    "We have chosen the first 500 000 objects in the catalogue. Takes a long time to plot all the samples. "
   ]
  },
  {
   "cell_type": "code",
   "execution_count": null,
   "metadata": {},
   "outputs": [],
   "source": [
    "fits_image = fits.open('./data/KiDS_DR4.1_ugriZYJHKs_SOM_gold_WL_cat.fits')\n",
    "data = fits_image[1].data\n",
    "fits_image.close()"
   ]
  },
  {
   "cell_type": "code",
   "execution_count": null,
   "metadata": {},
   "outputs": [],
   "source": [
    "xarr, yarr = data['ALPHA_J2000'], data['DELTA_J2000']\n",
    "nobjects = 1000000\n",
    "idx = random.sample(range(len(xarr)), nobjects)\n",
    "eq = SkyCoord(xarr[idx], yarr[idx], unit=u.deg)\n",
    "gal = eq.galactic\n",
    "colors = np.random.random((nobjects, 3))"
   ]
  },
  {
   "cell_type": "code",
   "execution_count": null,
   "metadata": {},
   "outputs": [],
   "source": [
    "plt.figure(figsize = (12, 8))\n",
    "plt.subplot(111, projection='aitoff')\n",
    "plt.grid(True)\n",
    "plt.scatter(gal.l.wrap_at('180d').radian, gal.b.radian, s=10, c=colors, alpha=0.6, edgecolors=colors, rasterized=True)\n",
    "plt.xticks(fontsize=20)\n",
    "plt.yticks(fontsize=20)\n",
    "# plt.savefig('plots/skymap.pdf', bbox_inches = 'tight')\n",
    "plt.show()"
   ]
  },
  {
   "cell_type": "markdown",
   "metadata": {},
   "source": [
    "# Processing\n",
    "\n",
    "Process the data in such as way that we have 6 files stored \n",
    "\n",
    "- flux \n",
    "- flux errors \n",
    "- magnitude\n",
    "- magnitude error \n",
    "- BPZ \n",
    "- meta data \n",
    "\n",
    "We can process the whole data and this will be stored in data/processed or we can take a subset of $N$ galaxies and these will be stored in data/sets."
   ]
  },
  {
   "cell_type": "code",
   "execution_count": 2,
   "metadata": {},
   "outputs": [],
   "source": [
    "from src.processing import cleaning "
   ]
  },
  {
   "cell_type": "code",
   "execution_count": 3,
   "metadata": {},
   "outputs": [
    {
     "name": "stdout",
     "output_type": "stream",
     "text": [
      "Size of flux dataframe 3K\n",
      "Size of flux errors dataframe 3K\n",
      "Size of magnitude dataframe 1K\n",
      "Size of magnitude errors dataframe 1K\n",
      "Size of BPZ dataframe 1K\n",
      "Size of meta dataframe 1K\n",
      "--------------------------------------------------\n",
      "Size of flux dataframe 3K\n",
      "Size of flux errors dataframe 3K\n",
      "Size of magnitude dataframe 1K\n",
      "Size of magnitude errors dataframe 1K\n",
      "Size of BPZ dataframe 1K\n",
      "Size of meta dataframe 1K\n",
      "--------------------------------------------------\n",
      "Size of flux dataframe 3K\n",
      "Size of flux errors dataframe 3K\n",
      "Size of magnitude dataframe 1K\n",
      "Size of magnitude errors dataframe 1K\n",
      "Size of BPZ dataframe 1K\n",
      "Size of meta dataframe 1K\n",
      "--------------------------------------------------\n",
      "Size of flux dataframe 3K\n",
      "Size of flux errors dataframe 3K\n",
      "Size of magnitude dataframe 1K\n",
      "Size of magnitude errors dataframe 1K\n",
      "Size of BPZ dataframe 1K\n",
      "Size of meta dataframe 1K\n",
      "--------------------------------------------------\n",
      "Size of flux dataframe 3K\n",
      "Size of flux errors dataframe 3K\n",
      "Size of magnitude dataframe 1K\n",
      "Size of magnitude errors dataframe 1K\n",
      "Size of BPZ dataframe 1K\n",
      "Size of meta dataframe 1K\n",
      "--------------------------------------------------\n"
     ]
    }
   ],
   "source": [
    "fits_image = fits.open('data/catalogue/KiDS_DR4.1_ugriZYJHKs_SOM_gold_WL_cat.fits')\n",
    "\n",
    "# cleaning \n",
    "# whole_data = cleaning(fits_image, save = True, folder = 'data/processed')\n",
    "\n",
    "for i in range(5):\n",
    "    set_galaxies = cleaning(fits_image, save = True, ngalaxies = 100, folder = f'data/sets/set_{i+1}')\n",
    "    print('-'*50)\n",
    "\n",
    "fits_image.close()"
   ]
  },
  {
   "cell_type": "markdown",
   "metadata": {},
   "source": [
    "# Tomography"
   ]
  },
  {
   "cell_type": "code",
   "execution_count": null,
   "metadata": {},
   "outputs": [],
   "source": []
  }
 ],
 "metadata": {
  "kernelspec": {
   "display_name": "Python [conda env:anaconda3]",
   "language": "python",
   "name": "conda-env-anaconda3-py"
  },
  "language_info": {
   "codemirror_mode": {
    "name": "ipython",
    "version": 3
   },
   "file_extension": ".py",
   "mimetype": "text/x-python",
   "name": "python",
   "nbconvert_exporter": "python",
   "pygments_lexer": "ipython3",
   "version": "3.9.6"
  }
 },
 "nbformat": 4,
 "nbformat_minor": 2
}
