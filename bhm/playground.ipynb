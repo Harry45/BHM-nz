{
 "cells": [
  {
   "cell_type": "code",
   "execution_count": 194,
   "metadata": {},
   "outputs": [],
   "source": [
    "import sys \n",
    "import os \n",
    "import pickle\n",
    "import random\n",
    "import numpy as np \n",
    "from astropy.io import fits\n",
    "from astropy.coordinates import SkyCoord  \n",
    "import astropy.units as u\n",
    "import matplotlib.pylab as plt \n",
    "import pandas as pd \n",
    "from scipy.interpolate import InterpolatedUnivariateSpline, interp1d\n",
    "\n",
    "plt.rc('text', usetex=True) # - Imperial cluster cannot find Latex\n",
    "plt.rc('font',**{'family':'sans-serif','serif':['Palatino']})\n",
    "figSize  = (12, 8)\n",
    "fontSize = 20"
   ]
  },
  {
   "cell_type": "code",
   "execution_count": 2,
   "metadata": {},
   "outputs": [],
   "source": [
    "from configuration import get_config\n",
    "CONFIG = get_config('KiDS-1000')"
   ]
  },
  {
   "cell_type": "markdown",
   "metadata": {},
   "source": [
    "# Notes\n",
    "Important columns identified in the catalogue.\n",
    "\n",
    "## Positions on the sky\n",
    "- ALPHA_J2000 (deg)\n",
    "- DELTA_J2000 (deg)\n",
    "\n",
    "## Ellipticities and Weights\n",
    "- e1\n",
    "- e2\n",
    "- weight\n",
    "\n",
    "## Flux\n",
    "- FLUX_GAAP_u (count)\n",
    "- FLUX_GAAP_g (count)\n",
    "- FLUX_GAAP_r (count)\n",
    "- FLUX_GAAP_i (count)\n",
    "- FLUX_GAAP_Z (count)\n",
    "- FLUX_GAAP_Y (count)\n",
    "- FLUX_GAAP_J (count)\n",
    "- FLUX_GAAP_H (count)\n",
    "- FLUX_GAAP_Ks (count)\n",
    "\n",
    "## Flux Errors\n",
    "- FLUXERR_GAAP_u (count)\n",
    "- FLUXERR_GAAP_g (count)\n",
    "- FLUXERR_GAAP_r (count)\n",
    "- FLUXERR_GAAP_i (count)\n",
    "- FLUXERR_GAAP_Z (count)\n",
    "- FLUXERR_GAAP_Y (count)\n",
    "- FLUXERR_GAAP_J (count)\n",
    "- FLUXERR_GAAP_H (count)\n",
    "- FLUXERR_GAAP_Ks (count)\n",
    "\n",
    "## Magnitude\n",
    "- MAG_GAAP_u (mag)\n",
    "- MAG_GAAP_g (mag)\n",
    "- MAG_GAAP_r (mag)\n",
    "- MAG_GAAP_i (mag)\n",
    "- MAG_GAAP_Z (mag)\n",
    "- MAG_GAAP_Y (mag)\n",
    "- MAG_GAAP_J (mag)\n",
    "- MAG_GAAP_H (mag)\n",
    "- MAG_GAAP_Ks (mag)\n",
    "\n",
    "## Magnitude Error\n",
    "- MAGERR_GAAP_u (mag)\n",
    "- MAGERR_GAAP_g (mag)\n",
    "- MAGERR_GAAP_r (mag)\n",
    "- MAGERR_GAAP_i (mag)\n",
    "- MAGERR_GAAP_Z (mag)\n",
    "- MAGERR_GAAP_Y (mag)\n",
    "- MAGERR_GAAP_J (mag)\n",
    "- MAGERR_GAAP_H (mag)\n",
    "- MAGERR_GAAP_Ks (mag)\n",
    "\n",
    "## Magnitude Limit\n",
    "- MAG_LIM_u (mag)\n",
    "- MAG_LIM_g (mag)\n",
    "- MAG_LIM_r (mag)\n",
    "- MAG_LIM_i (mag)\n",
    "- MAG_LIM_Z (mag)\n",
    "- MAG_LIM_Y (mag)\n",
    "- MAG_LIM_J (mag)\n",
    "- MAG_LIM_H (mag)\n",
    "- MAG_LIM_Ks (mag)\n",
    "\n",
    "## Flag (all of them 0)\n",
    "- FLAG_GAAP_u\n",
    "- FLAG_GAAP_g\n",
    "- FLAG_GAAP_r\n",
    "- FLAG_GAAP_i\n",
    "- FLAG_GAAP_Z\n",
    "- FLAG_GAAP_Y\n",
    "- FLAG_GAAP_J\n",
    "- FLAG_GAAP_H\n",
    "- FLAG_GAAP_Ks\n",
    "\n",
    "## BPZ\n",
    "- M_0 (reference magnitude for BPZ prior)\n",
    "- Z_B (9 band BPZ redshift estimate - peak of posterior)\n",
    "- Z_ML (9 band BPZ maximum likelihood redshift)\n",
    "- Z_B_MIN (lower bound of the 68% confidence interval of Z_B)\n",
    "- Z_B_MAX (upper bound of the 68% confidence interval of Z_B)"
   ]
  },
  {
   "cell_type": "markdown",
   "metadata": {},
   "source": [
    "# Plot Objects on the Sky\n",
    "\n",
    "We have chosen the first 500 000 objects in the catalogue. Takes a long time to plot all the samples. "
   ]
  },
  {
   "cell_type": "code",
   "execution_count": 3,
   "metadata": {},
   "outputs": [],
   "source": [
    "fits_image = fits.open('./data/catalogue/KiDS_DR4.1_ugriZYJHKs_SOM_gold_WL_cat.fits')\n",
    "data = fits_image[1].data\n",
    "fits_image.close()"
   ]
  },
  {
   "cell_type": "markdown",
   "metadata": {},
   "source": [
    "## Redshifts"
   ]
  },
  {
   "cell_type": "code",
   "execution_count": 4,
   "metadata": {},
   "outputs": [],
   "source": [
    "rednames = ['Z_B', 'Z_ML']\n",
    "redshifts = np.asarray([data[rednames[i]] for i in range(len(rednames))]).T\n",
    "df_redshifts = pd.DataFrame(redshifts, columns = rednames, dtype = np.float16)"
   ]
  },
  {
   "cell_type": "code",
   "execution_count": 5,
   "metadata": {},
   "outputs": [
    {
     "data": {
      "text/html": [
       "<div>\n",
       "<style scoped>\n",
       "    .dataframe tbody tr th:only-of-type {\n",
       "        vertical-align: middle;\n",
       "    }\n",
       "\n",
       "    .dataframe tbody tr th {\n",
       "        vertical-align: top;\n",
       "    }\n",
       "\n",
       "    .dataframe thead th {\n",
       "        text-align: right;\n",
       "    }\n",
       "</style>\n",
       "<table border=\"1\" class=\"dataframe\">\n",
       "  <thead>\n",
       "    <tr style=\"text-align: right;\">\n",
       "      <th></th>\n",
       "      <th>Z_B</th>\n",
       "      <th>Z_ML</th>\n",
       "    </tr>\n",
       "  </thead>\n",
       "  <tbody>\n",
       "    <tr>\n",
       "      <th>0</th>\n",
       "      <td>0.709961</td>\n",
       "      <td>0.070007</td>\n",
       "    </tr>\n",
       "    <tr>\n",
       "      <th>1</th>\n",
       "      <td>0.439941</td>\n",
       "      <td>0.439941</td>\n",
       "    </tr>\n",
       "    <tr>\n",
       "      <th>2</th>\n",
       "      <td>1.080078</td>\n",
       "      <td>1.089844</td>\n",
       "    </tr>\n",
       "    <tr>\n",
       "      <th>3</th>\n",
       "      <td>0.540039</td>\n",
       "      <td>0.700195</td>\n",
       "    </tr>\n",
       "    <tr>\n",
       "      <th>4</th>\n",
       "      <td>1.009766</td>\n",
       "      <td>1.030273</td>\n",
       "    </tr>\n",
       "  </tbody>\n",
       "</table>\n",
       "</div>"
      ],
      "text/plain": [
       "        Z_B      Z_ML\n",
       "0  0.709961  0.070007\n",
       "1  0.439941  0.439941\n",
       "2  1.080078  1.089844\n",
       "3  0.540039  0.700195\n",
       "4  1.009766  1.030273"
      ]
     },
     "execution_count": 5,
     "metadata": {},
     "output_type": "execute_result"
    }
   ],
   "source": [
    "df_redshifts.head()"
   ]
  },
  {
   "cell_type": "markdown",
   "metadata": {},
   "source": [
    "## Names "
   ]
  },
  {
   "cell_type": "code",
   "execution_count": 6,
   "metadata": {},
   "outputs": [],
   "source": [
    "names = np.asarray(data['THELI_NAME'], dtype = str)\n",
    "df_names = pd.DataFrame(names, columns = ['THELI_NAME'])"
   ]
  },
  {
   "cell_type": "markdown",
   "metadata": {},
   "source": [
    "## Fluxes"
   ]
  },
  {
   "cell_type": "code",
   "execution_count": 7,
   "metadata": {},
   "outputs": [],
   "source": [
    "fluxes = np.asarray([data[CONFIG.colnames.flux[i]] for i in range(CONFIG.nband)]).T\n",
    "df_flux = pd.DataFrame(fluxes, columns=CONFIG.colnames.flux, dtype=np.float32)"
   ]
  },
  {
   "cell_type": "code",
   "execution_count": 8,
   "metadata": {},
   "outputs": [
    {
     "data": {
      "text/html": [
       "<div>\n",
       "<style scoped>\n",
       "    .dataframe tbody tr th:only-of-type {\n",
       "        vertical-align: middle;\n",
       "    }\n",
       "\n",
       "    .dataframe tbody tr th {\n",
       "        vertical-align: top;\n",
       "    }\n",
       "\n",
       "    .dataframe thead th {\n",
       "        text-align: right;\n",
       "    }\n",
       "</style>\n",
       "<table border=\"1\" class=\"dataframe\">\n",
       "  <thead>\n",
       "    <tr style=\"text-align: right;\">\n",
       "      <th></th>\n",
       "      <th>FLUX_GAAP_u</th>\n",
       "      <th>FLUX_GAAP_g</th>\n",
       "      <th>FLUX_GAAP_r</th>\n",
       "      <th>FLUX_GAAP_i</th>\n",
       "      <th>FLUX_GAAP_Z</th>\n",
       "      <th>FLUX_GAAP_Y</th>\n",
       "      <th>FLUX_GAAP_J</th>\n",
       "      <th>FLUX_GAAP_H</th>\n",
       "      <th>FLUX_GAAP_Ks</th>\n",
       "    </tr>\n",
       "  </thead>\n",
       "  <tbody>\n",
       "    <tr>\n",
       "      <th>0</th>\n",
       "      <td>1.056200e-11</td>\n",
       "      <td>1.392500e-10</td>\n",
       "      <td>1.615300e-10</td>\n",
       "      <td>2.616000e-10</td>\n",
       "      <td>316.019989</td>\n",
       "      <td>557.820007</td>\n",
       "      <td>221.858902</td>\n",
       "      <td>905.090027</td>\n",
       "      <td>924.590027</td>\n",
       "    </tr>\n",
       "    <tr>\n",
       "      <th>1</th>\n",
       "      <td>6.060100e-11</td>\n",
       "      <td>8.435300e-10</td>\n",
       "      <td>4.170800e-09</td>\n",
       "      <td>7.162000e-09</td>\n",
       "      <td>11010.000000</td>\n",
       "      <td>14520.000000</td>\n",
       "      <td>18281.925781</td>\n",
       "      <td>24005.000000</td>\n",
       "      <td>27658.000000</td>\n",
       "    </tr>\n",
       "    <tr>\n",
       "      <th>2</th>\n",
       "      <td>1.579000e-10</td>\n",
       "      <td>3.678500e-10</td>\n",
       "      <td>6.326800e-10</td>\n",
       "      <td>8.714600e-10</td>\n",
       "      <td>1914.500000</td>\n",
       "      <td>1557.099976</td>\n",
       "      <td>2037.095947</td>\n",
       "      <td>2146.000000</td>\n",
       "      <td>5169.600098</td>\n",
       "    </tr>\n",
       "    <tr>\n",
       "      <th>3</th>\n",
       "      <td>2.215500e-10</td>\n",
       "      <td>1.250500e-10</td>\n",
       "      <td>2.747600e-10</td>\n",
       "      <td>2.562200e-10</td>\n",
       "      <td>474.690002</td>\n",
       "      <td>890.419983</td>\n",
       "      <td>382.773987</td>\n",
       "      <td>2217.699951</td>\n",
       "      <td>856.369995</td>\n",
       "    </tr>\n",
       "    <tr>\n",
       "      <th>4</th>\n",
       "      <td>1.051100e-10</td>\n",
       "      <td>2.209900e-10</td>\n",
       "      <td>5.564200e-10</td>\n",
       "      <td>1.192700e-09</td>\n",
       "      <td>2096.135986</td>\n",
       "      <td>2520.406494</td>\n",
       "      <td>4021.867676</td>\n",
       "      <td>6219.298828</td>\n",
       "      <td>9032.557617</td>\n",
       "    </tr>\n",
       "  </tbody>\n",
       "</table>\n",
       "</div>"
      ],
      "text/plain": [
       "    FLUX_GAAP_u   FLUX_GAAP_g   FLUX_GAAP_r   FLUX_GAAP_i   FLUX_GAAP_Z  \\\n",
       "0  1.056200e-11  1.392500e-10  1.615300e-10  2.616000e-10    316.019989   \n",
       "1  6.060100e-11  8.435300e-10  4.170800e-09  7.162000e-09  11010.000000   \n",
       "2  1.579000e-10  3.678500e-10  6.326800e-10  8.714600e-10   1914.500000   \n",
       "3  2.215500e-10  1.250500e-10  2.747600e-10  2.562200e-10    474.690002   \n",
       "4  1.051100e-10  2.209900e-10  5.564200e-10  1.192700e-09   2096.135986   \n",
       "\n",
       "    FLUX_GAAP_Y   FLUX_GAAP_J   FLUX_GAAP_H  FLUX_GAAP_Ks  \n",
       "0    557.820007    221.858902    905.090027    924.590027  \n",
       "1  14520.000000  18281.925781  24005.000000  27658.000000  \n",
       "2   1557.099976   2037.095947   2146.000000   5169.600098  \n",
       "3    890.419983    382.773987   2217.699951    856.369995  \n",
       "4   2520.406494   4021.867676   6219.298828   9032.557617  "
      ]
     },
     "execution_count": 8,
     "metadata": {},
     "output_type": "execute_result"
    }
   ],
   "source": [
    "df_flux.head()"
   ]
  },
  {
   "cell_type": "markdown",
   "metadata": {},
   "source": [
    "## Flux Error"
   ]
  },
  {
   "cell_type": "code",
   "execution_count": 9,
   "metadata": {},
   "outputs": [],
   "source": [
    "flux_err_names = [f'FLUXERR_GAAP_{f}' for f in CONFIG.band]\n",
    "flux_err = np.asarray([data[flux_err_names[i]] for i in range(CONFIG.nband)]).T\n",
    "df_flux_err = pd.DataFrame(flux_err, columns=flux_err_names, dtype=np.float32)"
   ]
  },
  {
   "cell_type": "code",
   "execution_count": 10,
   "metadata": {},
   "outputs": [
    {
     "data": {
      "text/html": [
       "<div>\n",
       "<style scoped>\n",
       "    .dataframe tbody tr th:only-of-type {\n",
       "        vertical-align: middle;\n",
       "    }\n",
       "\n",
       "    .dataframe tbody tr th {\n",
       "        vertical-align: top;\n",
       "    }\n",
       "\n",
       "    .dataframe thead th {\n",
       "        text-align: right;\n",
       "    }\n",
       "</style>\n",
       "<table border=\"1\" class=\"dataframe\">\n",
       "  <thead>\n",
       "    <tr style=\"text-align: right;\">\n",
       "      <th></th>\n",
       "      <th>FLUXERR_GAAP_u</th>\n",
       "      <th>FLUXERR_GAAP_g</th>\n",
       "      <th>FLUXERR_GAAP_r</th>\n",
       "      <th>FLUXERR_GAAP_i</th>\n",
       "      <th>FLUXERR_GAAP_Z</th>\n",
       "      <th>FLUXERR_GAAP_Y</th>\n",
       "      <th>FLUXERR_GAAP_J</th>\n",
       "      <th>FLUXERR_GAAP_H</th>\n",
       "      <th>FLUXERR_GAAP_Ks</th>\n",
       "    </tr>\n",
       "  </thead>\n",
       "  <tbody>\n",
       "    <tr>\n",
       "      <th>0</th>\n",
       "      <td>6.540000e-11</td>\n",
       "      <td>2.810000e-11</td>\n",
       "      <td>3.120000e-11</td>\n",
       "      <td>7.300000e-11</td>\n",
       "      <td>161.000000</td>\n",
       "      <td>381.000000</td>\n",
       "      <td>424.805298</td>\n",
       "      <td>1030.000000</td>\n",
       "      <td>943.000000</td>\n",
       "    </tr>\n",
       "    <tr>\n",
       "      <th>1</th>\n",
       "      <td>7.250000e-11</td>\n",
       "      <td>3.210000e-11</td>\n",
       "      <td>3.710000e-11</td>\n",
       "      <td>8.580000e-11</td>\n",
       "      <td>178.000000</td>\n",
       "      <td>428.000000</td>\n",
       "      <td>481.546692</td>\n",
       "      <td>1200.000000</td>\n",
       "      <td>1100.000000</td>\n",
       "    </tr>\n",
       "    <tr>\n",
       "      <th>2</th>\n",
       "      <td>6.910000e-11</td>\n",
       "      <td>3.020000e-11</td>\n",
       "      <td>3.450000e-11</td>\n",
       "      <td>8.000000e-11</td>\n",
       "      <td>170.000000</td>\n",
       "      <td>407.000000</td>\n",
       "      <td>455.338013</td>\n",
       "      <td>1130.000000</td>\n",
       "      <td>1030.000000</td>\n",
       "    </tr>\n",
       "    <tr>\n",
       "      <th>3</th>\n",
       "      <td>6.620000e-11</td>\n",
       "      <td>2.860000e-11</td>\n",
       "      <td>3.220000e-11</td>\n",
       "      <td>7.520000e-11</td>\n",
       "      <td>164.000000</td>\n",
       "      <td>390.000000</td>\n",
       "      <td>382.330353</td>\n",
       "      <td>1060.000000</td>\n",
       "      <td>971.000000</td>\n",
       "    </tr>\n",
       "    <tr>\n",
       "      <th>4</th>\n",
       "      <td>5.290000e-11</td>\n",
       "      <td>2.640000e-11</td>\n",
       "      <td>2.930000e-11</td>\n",
       "      <td>6.770000e-11</td>\n",
       "      <td>120.152008</td>\n",
       "      <td>280.437103</td>\n",
       "      <td>275.078003</td>\n",
       "      <td>886.384155</td>\n",
       "      <td>702.218994</td>\n",
       "    </tr>\n",
       "  </tbody>\n",
       "</table>\n",
       "</div>"
      ],
      "text/plain": [
       "   FLUXERR_GAAP_u  FLUXERR_GAAP_g  FLUXERR_GAAP_r  FLUXERR_GAAP_i  \\\n",
       "0    6.540000e-11    2.810000e-11    3.120000e-11    7.300000e-11   \n",
       "1    7.250000e-11    3.210000e-11    3.710000e-11    8.580000e-11   \n",
       "2    6.910000e-11    3.020000e-11    3.450000e-11    8.000000e-11   \n",
       "3    6.620000e-11    2.860000e-11    3.220000e-11    7.520000e-11   \n",
       "4    5.290000e-11    2.640000e-11    2.930000e-11    6.770000e-11   \n",
       "\n",
       "   FLUXERR_GAAP_Z  FLUXERR_GAAP_Y  FLUXERR_GAAP_J  FLUXERR_GAAP_H  \\\n",
       "0      161.000000      381.000000      424.805298     1030.000000   \n",
       "1      178.000000      428.000000      481.546692     1200.000000   \n",
       "2      170.000000      407.000000      455.338013     1130.000000   \n",
       "3      164.000000      390.000000      382.330353     1060.000000   \n",
       "4      120.152008      280.437103      275.078003      886.384155   \n",
       "\n",
       "   FLUXERR_GAAP_Ks  \n",
       "0       943.000000  \n",
       "1      1100.000000  \n",
       "2      1030.000000  \n",
       "3       971.000000  \n",
       "4       702.218994  "
      ]
     },
     "execution_count": 10,
     "metadata": {},
     "output_type": "execute_result"
    }
   ],
   "source": [
    "df_flux_err.head()"
   ]
  },
  {
   "cell_type": "markdown",
   "metadata": {},
   "source": [
    "## Magnitude"
   ]
  },
  {
   "cell_type": "code",
   "execution_count": 11,
   "metadata": {},
   "outputs": [],
   "source": [
    "mag = np.asarray([data[CONFIG.colnames.mag[i]] for i in range(CONFIG.nband)]).T\n",
    "df_mag = pd.DataFrame(mag, columns=CONFIG.colnames.mag, dtype=np.float16)"
   ]
  },
  {
   "cell_type": "code",
   "execution_count": 12,
   "metadata": {},
   "outputs": [
    {
     "data": {
      "text/html": [
       "<div>\n",
       "<style scoped>\n",
       "    .dataframe tbody tr th:only-of-type {\n",
       "        vertical-align: middle;\n",
       "    }\n",
       "\n",
       "    .dataframe tbody tr th {\n",
       "        vertical-align: top;\n",
       "    }\n",
       "\n",
       "    .dataframe thead th {\n",
       "        text-align: right;\n",
       "    }\n",
       "</style>\n",
       "<table border=\"1\" class=\"dataframe\">\n",
       "  <thead>\n",
       "    <tr style=\"text-align: right;\">\n",
       "      <th></th>\n",
       "      <th>MAG_GAAP_u</th>\n",
       "      <th>MAG_GAAP_g</th>\n",
       "      <th>MAG_GAAP_r</th>\n",
       "      <th>MAG_GAAP_i</th>\n",
       "      <th>MAG_GAAP_Z</th>\n",
       "      <th>MAG_GAAP_Y</th>\n",
       "      <th>MAG_GAAP_J</th>\n",
       "      <th>MAG_GAAP_H</th>\n",
       "      <th>MAG_GAAP_Ks</th>\n",
       "    </tr>\n",
       "  </thead>\n",
       "  <tbody>\n",
       "    <tr>\n",
       "      <th>0</th>\n",
       "      <td>99.00000</td>\n",
       "      <td>24.546875</td>\n",
       "      <td>24.421875</td>\n",
       "      <td>23.921875</td>\n",
       "      <td>23.718750</td>\n",
       "      <td>23.093750</td>\n",
       "      <td>24.109375</td>\n",
       "      <td>22.59375</td>\n",
       "      <td>22.578125</td>\n",
       "    </tr>\n",
       "    <tr>\n",
       "      <th>1</th>\n",
       "      <td>99.00000</td>\n",
       "      <td>22.593750</td>\n",
       "      <td>20.890625</td>\n",
       "      <td>20.328125</td>\n",
       "      <td>19.859375</td>\n",
       "      <td>19.562500</td>\n",
       "      <td>19.328125</td>\n",
       "      <td>19.03125</td>\n",
       "      <td>18.890625</td>\n",
       "    </tr>\n",
       "    <tr>\n",
       "      <th>2</th>\n",
       "      <td>24.40625</td>\n",
       "      <td>23.500000</td>\n",
       "      <td>22.937500</td>\n",
       "      <td>22.625000</td>\n",
       "      <td>21.750000</td>\n",
       "      <td>21.984375</td>\n",
       "      <td>21.703125</td>\n",
       "      <td>21.65625</td>\n",
       "      <td>20.703125</td>\n",
       "    </tr>\n",
       "    <tr>\n",
       "      <th>3</th>\n",
       "      <td>24.03125</td>\n",
       "      <td>24.671875</td>\n",
       "      <td>23.843750</td>\n",
       "      <td>23.953125</td>\n",
       "      <td>23.265625</td>\n",
       "      <td>22.593750</td>\n",
       "      <td>23.515625</td>\n",
       "      <td>21.62500</td>\n",
       "      <td>22.656250</td>\n",
       "    </tr>\n",
       "    <tr>\n",
       "      <th>4</th>\n",
       "      <td>24.81250</td>\n",
       "      <td>24.031250</td>\n",
       "      <td>23.062500</td>\n",
       "      <td>22.265625</td>\n",
       "      <td>21.640625</td>\n",
       "      <td>21.453125</td>\n",
       "      <td>20.968750</td>\n",
       "      <td>20.50000</td>\n",
       "      <td>20.093750</td>\n",
       "    </tr>\n",
       "  </tbody>\n",
       "</table>\n",
       "</div>"
      ],
      "text/plain": [
       "   MAG_GAAP_u  MAG_GAAP_g  MAG_GAAP_r  MAG_GAAP_i  MAG_GAAP_Z  MAG_GAAP_Y  \\\n",
       "0    99.00000   24.546875   24.421875   23.921875   23.718750   23.093750   \n",
       "1    99.00000   22.593750   20.890625   20.328125   19.859375   19.562500   \n",
       "2    24.40625   23.500000   22.937500   22.625000   21.750000   21.984375   \n",
       "3    24.03125   24.671875   23.843750   23.953125   23.265625   22.593750   \n",
       "4    24.81250   24.031250   23.062500   22.265625   21.640625   21.453125   \n",
       "\n",
       "   MAG_GAAP_J  MAG_GAAP_H  MAG_GAAP_Ks  \n",
       "0   24.109375    22.59375    22.578125  \n",
       "1   19.328125    19.03125    18.890625  \n",
       "2   21.703125    21.65625    20.703125  \n",
       "3   23.515625    21.62500    22.656250  \n",
       "4   20.968750    20.50000    20.093750  "
      ]
     },
     "execution_count": 12,
     "metadata": {},
     "output_type": "execute_result"
    }
   ],
   "source": [
    "df_mag.head()"
   ]
  },
  {
   "cell_type": "code",
   "execution_count": 13,
   "metadata": {},
   "outputs": [
    {
     "data": {
      "text/plain": [
       "MAG_GAAP_u     99.0\n",
       "MAG_GAAP_g     99.0\n",
       "MAG_GAAP_r     99.0\n",
       "MAG_GAAP_i     99.0\n",
       "MAG_GAAP_Z     99.0\n",
       "MAG_GAAP_Y     99.0\n",
       "MAG_GAAP_J     99.0\n",
       "MAG_GAAP_H     99.0\n",
       "MAG_GAAP_Ks    99.0\n",
       "dtype: float16"
      ]
     },
     "execution_count": 13,
     "metadata": {},
     "output_type": "execute_result"
    }
   ],
   "source": [
    "df_mag.max()"
   ]
  },
  {
   "cell_type": "code",
   "execution_count": 14,
   "metadata": {},
   "outputs": [
    {
     "data": {
      "text/plain": [
       "MAG_GAAP_u     17.062500\n",
       "MAG_GAAP_g     17.859375\n",
       "MAG_GAAP_r     16.796875\n",
       "MAG_GAAP_i     16.343750\n",
       "MAG_GAAP_Z     15.851562\n",
       "MAG_GAAP_Y     15.664062\n",
       "MAG_GAAP_J     14.992188\n",
       "MAG_GAAP_H     14.015625\n",
       "MAG_GAAP_Ks    15.734375\n",
       "dtype: float16"
      ]
     },
     "execution_count": 14,
     "metadata": {},
     "output_type": "execute_result"
    }
   ],
   "source": [
    "df_mag.min()"
   ]
  },
  {
   "cell_type": "markdown",
   "metadata": {},
   "source": [
    "## Magnitude Error"
   ]
  },
  {
   "cell_type": "code",
   "execution_count": 15,
   "metadata": {},
   "outputs": [],
   "source": [
    "magerr_names = [f'MAGERR_GAAP_{f}' for f in CONFIG.band]\n",
    "magerr = np.asarray([data[magerr_names[i]] for i in range(CONFIG.nband)]).T\n",
    "df_magerr = pd.DataFrame(magerr, columns = magerr_names, dtype=np.float16)"
   ]
  },
  {
   "cell_type": "code",
   "execution_count": 16,
   "metadata": {},
   "outputs": [
    {
     "data": {
      "text/html": [
       "<div>\n",
       "<style scoped>\n",
       "    .dataframe tbody tr th:only-of-type {\n",
       "        vertical-align: middle;\n",
       "    }\n",
       "\n",
       "    .dataframe tbody tr th {\n",
       "        vertical-align: top;\n",
       "    }\n",
       "\n",
       "    .dataframe thead th {\n",
       "        text-align: right;\n",
       "    }\n",
       "</style>\n",
       "<table border=\"1\" class=\"dataframe\">\n",
       "  <thead>\n",
       "    <tr style=\"text-align: right;\">\n",
       "      <th></th>\n",
       "      <th>MAGERR_GAAP_u</th>\n",
       "      <th>MAGERR_GAAP_g</th>\n",
       "      <th>MAGERR_GAAP_r</th>\n",
       "      <th>MAGERR_GAAP_i</th>\n",
       "      <th>MAGERR_GAAP_Z</th>\n",
       "      <th>MAGERR_GAAP_Y</th>\n",
       "      <th>MAGERR_GAAP_J</th>\n",
       "      <th>MAGERR_GAAP_H</th>\n",
       "      <th>MAGERR_GAAP_Ks</th>\n",
       "    </tr>\n",
       "  </thead>\n",
       "  <tbody>\n",
       "    <tr>\n",
       "      <th>0</th>\n",
       "      <td>6.722656</td>\n",
       "      <td>0.219116</td>\n",
       "      <td>0.209717</td>\n",
       "      <td>0.302979</td>\n",
       "      <td>0.553223</td>\n",
       "      <td>0.741699</td>\n",
       "      <td>2.078125</td>\n",
       "      <td>1.235352</td>\n",
       "      <td>1.107422</td>\n",
       "    </tr>\n",
       "    <tr>\n",
       "      <th>1</th>\n",
       "      <td>1.298828</td>\n",
       "      <td>0.041321</td>\n",
       "      <td>0.009659</td>\n",
       "      <td>0.013008</td>\n",
       "      <td>0.017548</td>\n",
       "      <td>0.032013</td>\n",
       "      <td>0.028595</td>\n",
       "      <td>0.054260</td>\n",
       "      <td>0.043182</td>\n",
       "    </tr>\n",
       "    <tr>\n",
       "      <th>2</th>\n",
       "      <td>0.475098</td>\n",
       "      <td>0.089111</td>\n",
       "      <td>0.059204</td>\n",
       "      <td>0.099670</td>\n",
       "      <td>0.096436</td>\n",
       "      <td>0.283691</td>\n",
       "      <td>0.242676</td>\n",
       "      <td>0.571777</td>\n",
       "      <td>0.216309</td>\n",
       "    </tr>\n",
       "    <tr>\n",
       "      <th>3</th>\n",
       "      <td>0.324463</td>\n",
       "      <td>0.248291</td>\n",
       "      <td>0.127197</td>\n",
       "      <td>0.318604</td>\n",
       "      <td>0.375000</td>\n",
       "      <td>0.475586</td>\n",
       "      <td>1.084961</td>\n",
       "      <td>0.519043</td>\n",
       "      <td>1.231445</td>\n",
       "    </tr>\n",
       "    <tr>\n",
       "      <th>4</th>\n",
       "      <td>0.546387</td>\n",
       "      <td>0.129761</td>\n",
       "      <td>0.057159</td>\n",
       "      <td>0.061615</td>\n",
       "      <td>0.062225</td>\n",
       "      <td>0.120789</td>\n",
       "      <td>0.074280</td>\n",
       "      <td>0.154785</td>\n",
       "      <td>0.084412</td>\n",
       "    </tr>\n",
       "  </tbody>\n",
       "</table>\n",
       "</div>"
      ],
      "text/plain": [
       "   MAGERR_GAAP_u  MAGERR_GAAP_g  MAGERR_GAAP_r  MAGERR_GAAP_i  MAGERR_GAAP_Z  \\\n",
       "0       6.722656       0.219116       0.209717       0.302979       0.553223   \n",
       "1       1.298828       0.041321       0.009659       0.013008       0.017548   \n",
       "2       0.475098       0.089111       0.059204       0.099670       0.096436   \n",
       "3       0.324463       0.248291       0.127197       0.318604       0.375000   \n",
       "4       0.546387       0.129761       0.057159       0.061615       0.062225   \n",
       "\n",
       "   MAGERR_GAAP_Y  MAGERR_GAAP_J  MAGERR_GAAP_H  MAGERR_GAAP_Ks  \n",
       "0       0.741699       2.078125       1.235352        1.107422  \n",
       "1       0.032013       0.028595       0.054260        0.043182  \n",
       "2       0.283691       0.242676       0.571777        0.216309  \n",
       "3       0.475586       1.084961       0.519043        1.231445  \n",
       "4       0.120789       0.074280       0.154785        0.084412  "
      ]
     },
     "execution_count": 16,
     "metadata": {},
     "output_type": "execute_result"
    }
   ],
   "source": [
    "df_magerr.head()"
   ]
  },
  {
   "cell_type": "markdown",
   "metadata": {},
   "source": [
    "## Extinction"
   ]
  },
  {
   "cell_type": "code",
   "execution_count": 17,
   "metadata": {},
   "outputs": [],
   "source": [
    "ext_names = [f'EXTINCTION_{f}' for f in CONFIG.band]\n",
    "extinction = np.asarray([data[ext_names[i]] for i in range(CONFIG.nband)]).T\n",
    "df_ext = pd.DataFrame(extinction, columns = ext_names, dtype=np.float16)"
   ]
  },
  {
   "cell_type": "code",
   "execution_count": 18,
   "metadata": {},
   "outputs": [
    {
     "data": {
      "text/html": [
       "<div>\n",
       "<style scoped>\n",
       "    .dataframe tbody tr th:only-of-type {\n",
       "        vertical-align: middle;\n",
       "    }\n",
       "\n",
       "    .dataframe tbody tr th {\n",
       "        vertical-align: top;\n",
       "    }\n",
       "\n",
       "    .dataframe thead th {\n",
       "        text-align: right;\n",
       "    }\n",
       "</style>\n",
       "<table border=\"1\" class=\"dataframe\">\n",
       "  <thead>\n",
       "    <tr style=\"text-align: right;\">\n",
       "      <th></th>\n",
       "      <th>EXTINCTION_u</th>\n",
       "      <th>EXTINCTION_g</th>\n",
       "      <th>EXTINCTION_r</th>\n",
       "      <th>EXTINCTION_i</th>\n",
       "      <th>EXTINCTION_Z</th>\n",
       "      <th>EXTINCTION_Y</th>\n",
       "      <th>EXTINCTION_J</th>\n",
       "      <th>EXTINCTION_H</th>\n",
       "      <th>EXTINCTION_Ks</th>\n",
       "    </tr>\n",
       "  </thead>\n",
       "  <tbody>\n",
       "    <tr>\n",
       "      <th>0</th>\n",
       "      <td>0.130981</td>\n",
       "      <td>0.102051</td>\n",
       "      <td>0.070618</td>\n",
       "      <td>0.052460</td>\n",
       "      <td>0.039032</td>\n",
       "      <td>0.033661</td>\n",
       "      <td>0.021866</td>\n",
       "      <td>0.013885</td>\n",
       "      <td>0.009300</td>\n",
       "    </tr>\n",
       "    <tr>\n",
       "      <th>1</th>\n",
       "      <td>0.131714</td>\n",
       "      <td>0.102600</td>\n",
       "      <td>0.070984</td>\n",
       "      <td>0.052765</td>\n",
       "      <td>0.039246</td>\n",
       "      <td>0.033844</td>\n",
       "      <td>0.021988</td>\n",
       "      <td>0.013962</td>\n",
       "      <td>0.009354</td>\n",
       "    </tr>\n",
       "    <tr>\n",
       "      <th>2</th>\n",
       "      <td>0.131958</td>\n",
       "      <td>0.102844</td>\n",
       "      <td>0.071167</td>\n",
       "      <td>0.052856</td>\n",
       "      <td>0.039337</td>\n",
       "      <td>0.033905</td>\n",
       "      <td>0.022034</td>\n",
       "      <td>0.013992</td>\n",
       "      <td>0.009369</td>\n",
       "    </tr>\n",
       "    <tr>\n",
       "      <th>3</th>\n",
       "      <td>0.132568</td>\n",
       "      <td>0.103271</td>\n",
       "      <td>0.071411</td>\n",
       "      <td>0.053101</td>\n",
       "      <td>0.039490</td>\n",
       "      <td>0.034058</td>\n",
       "      <td>0.022125</td>\n",
       "      <td>0.014046</td>\n",
       "      <td>0.009407</td>\n",
       "    </tr>\n",
       "    <tr>\n",
       "      <th>4</th>\n",
       "      <td>0.162598</td>\n",
       "      <td>0.126709</td>\n",
       "      <td>0.087646</td>\n",
       "      <td>0.065125</td>\n",
       "      <td>0.048431</td>\n",
       "      <td>0.041779</td>\n",
       "      <td>0.027145</td>\n",
       "      <td>0.017227</td>\n",
       "      <td>0.011543</td>\n",
       "    </tr>\n",
       "  </tbody>\n",
       "</table>\n",
       "</div>"
      ],
      "text/plain": [
       "   EXTINCTION_u  EXTINCTION_g  EXTINCTION_r  EXTINCTION_i  EXTINCTION_Z  \\\n",
       "0      0.130981      0.102051      0.070618      0.052460      0.039032   \n",
       "1      0.131714      0.102600      0.070984      0.052765      0.039246   \n",
       "2      0.131958      0.102844      0.071167      0.052856      0.039337   \n",
       "3      0.132568      0.103271      0.071411      0.053101      0.039490   \n",
       "4      0.162598      0.126709      0.087646      0.065125      0.048431   \n",
       "\n",
       "   EXTINCTION_Y  EXTINCTION_J  EXTINCTION_H  EXTINCTION_Ks  \n",
       "0      0.033661      0.021866      0.013885       0.009300  \n",
       "1      0.033844      0.021988      0.013962       0.009354  \n",
       "2      0.033905      0.022034      0.013992       0.009369  \n",
       "3      0.034058      0.022125      0.014046       0.009407  \n",
       "4      0.041779      0.027145      0.017227       0.011543  "
      ]
     },
     "execution_count": 18,
     "metadata": {},
     "output_type": "execute_result"
    }
   ],
   "source": [
    "df_ext.head()"
   ]
  },
  {
   "cell_type": "markdown",
   "metadata": {},
   "source": [
    "## Magnitude Limit"
   ]
  },
  {
   "cell_type": "code",
   "execution_count": 19,
   "metadata": {},
   "outputs": [],
   "source": [
    "mag_lim_names = [f'MAG_LIM_{f}' for f in CONFIG.band]\n",
    "mag_lim = np.asarray([data[mag_lim_names[i]] for i in range(CONFIG.nband)]).T\n",
    "df_mag_lim = pd.DataFrame(mag_lim, columns = mag_lim_names, dtype=np.float16)"
   ]
  },
  {
   "cell_type": "code",
   "execution_count": 20,
   "metadata": {},
   "outputs": [
    {
     "data": {
      "text/html": [
       "<div>\n",
       "<style scoped>\n",
       "    .dataframe tbody tr th:only-of-type {\n",
       "        vertical-align: middle;\n",
       "    }\n",
       "\n",
       "    .dataframe tbody tr th {\n",
       "        vertical-align: top;\n",
       "    }\n",
       "\n",
       "    .dataframe thead th {\n",
       "        text-align: right;\n",
       "    }\n",
       "</style>\n",
       "<table border=\"1\" class=\"dataframe\">\n",
       "  <thead>\n",
       "    <tr style=\"text-align: right;\">\n",
       "      <th></th>\n",
       "      <th>MAG_LIM_u</th>\n",
       "      <th>MAG_LIM_g</th>\n",
       "      <th>MAG_LIM_r</th>\n",
       "      <th>MAG_LIM_i</th>\n",
       "      <th>MAG_LIM_Z</th>\n",
       "      <th>MAG_LIM_Y</th>\n",
       "      <th>MAG_LIM_J</th>\n",
       "      <th>MAG_LIM_H</th>\n",
       "      <th>MAG_LIM_Ks</th>\n",
       "    </tr>\n",
       "  </thead>\n",
       "  <tbody>\n",
       "    <tr>\n",
       "      <th>0</th>\n",
       "      <td>25.500000</td>\n",
       "      <td>26.390625</td>\n",
       "      <td>26.281250</td>\n",
       "      <td>25.359375</td>\n",
       "      <td>24.484375</td>\n",
       "      <td>23.546875</td>\n",
       "      <td>23.421875</td>\n",
       "      <td>22.468750</td>\n",
       "      <td>22.562500</td>\n",
       "    </tr>\n",
       "    <tr>\n",
       "      <th>1</th>\n",
       "      <td>25.390625</td>\n",
       "      <td>26.250000</td>\n",
       "      <td>26.093750</td>\n",
       "      <td>25.187500</td>\n",
       "      <td>24.375000</td>\n",
       "      <td>23.421875</td>\n",
       "      <td>23.296875</td>\n",
       "      <td>22.296875</td>\n",
       "      <td>22.390625</td>\n",
       "    </tr>\n",
       "    <tr>\n",
       "      <th>2</th>\n",
       "      <td>25.437500</td>\n",
       "      <td>26.312500</td>\n",
       "      <td>26.171875</td>\n",
       "      <td>25.265625</td>\n",
       "      <td>24.421875</td>\n",
       "      <td>23.468750</td>\n",
       "      <td>23.359375</td>\n",
       "      <td>22.375000</td>\n",
       "      <td>22.468750</td>\n",
       "    </tr>\n",
       "    <tr>\n",
       "      <th>3</th>\n",
       "      <td>25.484375</td>\n",
       "      <td>26.375000</td>\n",
       "      <td>26.250000</td>\n",
       "      <td>25.328125</td>\n",
       "      <td>24.468750</td>\n",
       "      <td>23.515625</td>\n",
       "      <td>23.546875</td>\n",
       "      <td>22.437500</td>\n",
       "      <td>22.531250</td>\n",
       "    </tr>\n",
       "    <tr>\n",
       "      <th>4</th>\n",
       "      <td>25.734375</td>\n",
       "      <td>26.453125</td>\n",
       "      <td>26.343750</td>\n",
       "      <td>25.453125</td>\n",
       "      <td>24.796875</td>\n",
       "      <td>23.875000</td>\n",
       "      <td>23.906250</td>\n",
       "      <td>22.625000</td>\n",
       "      <td>22.890625</td>\n",
       "    </tr>\n",
       "  </tbody>\n",
       "</table>\n",
       "</div>"
      ],
      "text/plain": [
       "   MAG_LIM_u  MAG_LIM_g  MAG_LIM_r  MAG_LIM_i  MAG_LIM_Z  MAG_LIM_Y  \\\n",
       "0  25.500000  26.390625  26.281250  25.359375  24.484375  23.546875   \n",
       "1  25.390625  26.250000  26.093750  25.187500  24.375000  23.421875   \n",
       "2  25.437500  26.312500  26.171875  25.265625  24.421875  23.468750   \n",
       "3  25.484375  26.375000  26.250000  25.328125  24.468750  23.515625   \n",
       "4  25.734375  26.453125  26.343750  25.453125  24.796875  23.875000   \n",
       "\n",
       "   MAG_LIM_J  MAG_LIM_H  MAG_LIM_Ks  \n",
       "0  23.421875  22.468750   22.562500  \n",
       "1  23.296875  22.296875   22.390625  \n",
       "2  23.359375  22.375000   22.468750  \n",
       "3  23.546875  22.437500   22.531250  \n",
       "4  23.906250  22.625000   22.890625  "
      ]
     },
     "execution_count": 20,
     "metadata": {},
     "output_type": "execute_result"
    }
   ],
   "source": [
    "df_mag_lim.head()"
   ]
  },
  {
   "cell_type": "markdown",
   "metadata": {},
   "source": [
    "# Check for Negative Values"
   ]
  },
  {
   "cell_type": "code",
   "execution_count": 363,
   "metadata": {},
   "outputs": [
    {
     "data": {
      "text/plain": [
       "False"
      ]
     },
     "execution_count": 363,
     "metadata": {},
     "output_type": "execute_result"
    }
   ],
   "source": [
    "np.any(df_mag.values < 0)"
   ]
  },
  {
   "cell_type": "code",
   "execution_count": 362,
   "metadata": {},
   "outputs": [
    {
     "data": {
      "text/plain": [
       "True"
      ]
     },
     "execution_count": 362,
     "metadata": {},
     "output_type": "execute_result"
    }
   ],
   "source": [
    "np.any(df_flux.values < 0)"
   ]
  },
  {
   "cell_type": "code",
   "execution_count": 361,
   "metadata": {},
   "outputs": [
    {
     "data": {
      "text/plain": [
       "False"
      ]
     },
     "execution_count": 361,
     "metadata": {},
     "output_type": "execute_result"
    }
   ],
   "source": [
    "np.any(df_flux_err.values < 0)"
   ]
  },
  {
   "cell_type": "markdown",
   "metadata": {},
   "source": [
    "# Processing"
   ]
  },
  {
   "cell_type": "code",
   "execution_count": 56,
   "metadata": {},
   "outputs": [],
   "source": [
    "NOBJECTS = 5000"
   ]
  },
  {
   "cell_type": "code",
   "execution_count": 77,
   "metadata": {},
   "outputs": [],
   "source": [
    "test_mag = df_mag.iloc[0:NOBJECTS].copy()\n",
    "test_magerr = df_magerr.iloc[0:NOBJECTS].copy()\n",
    "test_maglim = df_mag_lim.iloc[0:NOBJECTS].copy()\n",
    "test_flux = df_flux.iloc[0:NOBJECTS].copy()\n",
    "test_flux_err = df_flux_err.iloc[0:NOBJECTS].copy()\n",
    "\n",
    "columns_mult = ['Z', 'Y', 'J', 'H', 'Ks']\n",
    "columns_mult_flux = [f'FLUX_GAAP_{i}' for i in columns_mult]\n",
    "columns_mult_fluxerr = [f'FLUXERR_GAAP_{i}' for i in columns_mult]"
   ]
  },
  {
   "cell_type": "markdown",
   "metadata": {},
   "source": [
    "Processing for the flux. "
   ]
  },
  {
   "cell_type": "code",
   "execution_count": 80,
   "metadata": {},
   "outputs": [],
   "source": [
    "test_flux[columns_mult_flux] *= 10**(-0.4 * 30)\n",
    "test_flux_err[columns_mult_fluxerr] *= 10**(-0.4 * 30)"
   ]
  },
  {
   "cell_type": "code",
   "execution_count": 380,
   "metadata": {},
   "outputs": [
    {
     "data": {
      "text/html": [
       "<div>\n",
       "<style scoped>\n",
       "    .dataframe tbody tr th:only-of-type {\n",
       "        vertical-align: middle;\n",
       "    }\n",
       "\n",
       "    .dataframe tbody tr th {\n",
       "        vertical-align: top;\n",
       "    }\n",
       "\n",
       "    .dataframe thead th {\n",
       "        text-align: right;\n",
       "    }\n",
       "</style>\n",
       "<table border=\"1\" class=\"dataframe\">\n",
       "  <thead>\n",
       "    <tr style=\"text-align: right;\">\n",
       "      <th></th>\n",
       "      <th>FLUX_GAAP_u</th>\n",
       "      <th>FLUX_GAAP_g</th>\n",
       "      <th>FLUX_GAAP_r</th>\n",
       "      <th>FLUX_GAAP_i</th>\n",
       "      <th>FLUX_GAAP_Z</th>\n",
       "      <th>FLUX_GAAP_Y</th>\n",
       "      <th>FLUX_GAAP_J</th>\n",
       "      <th>FLUX_GAAP_H</th>\n",
       "      <th>FLUX_GAAP_Ks</th>\n",
       "    </tr>\n",
       "  </thead>\n",
       "  <tbody>\n",
       "    <tr>\n",
       "      <th>0</th>\n",
       "      <td>1.056200e-11</td>\n",
       "      <td>1.392500e-10</td>\n",
       "      <td>1.615300e-10</td>\n",
       "      <td>2.616000e-10</td>\n",
       "      <td>3.160200e-10</td>\n",
       "      <td>5.578200e-10</td>\n",
       "      <td>2.218589e-10</td>\n",
       "      <td>9.050900e-10</td>\n",
       "      <td>9.245900e-10</td>\n",
       "    </tr>\n",
       "    <tr>\n",
       "      <th>1</th>\n",
       "      <td>6.060100e-11</td>\n",
       "      <td>8.435300e-10</td>\n",
       "      <td>4.170800e-09</td>\n",
       "      <td>7.162000e-09</td>\n",
       "      <td>1.101000e-08</td>\n",
       "      <td>1.452000e-08</td>\n",
       "      <td>1.828193e-08</td>\n",
       "      <td>2.400500e-08</td>\n",
       "      <td>2.765800e-08</td>\n",
       "    </tr>\n",
       "    <tr>\n",
       "      <th>2</th>\n",
       "      <td>1.579000e-10</td>\n",
       "      <td>3.678500e-10</td>\n",
       "      <td>6.326800e-10</td>\n",
       "      <td>8.714600e-10</td>\n",
       "      <td>1.914500e-09</td>\n",
       "      <td>1.557100e-09</td>\n",
       "      <td>2.037096e-09</td>\n",
       "      <td>2.146000e-09</td>\n",
       "      <td>5.169600e-09</td>\n",
       "    </tr>\n",
       "    <tr>\n",
       "      <th>3</th>\n",
       "      <td>2.215500e-10</td>\n",
       "      <td>1.250500e-10</td>\n",
       "      <td>2.747600e-10</td>\n",
       "      <td>2.562200e-10</td>\n",
       "      <td>4.746900e-10</td>\n",
       "      <td>8.904200e-10</td>\n",
       "      <td>3.827740e-10</td>\n",
       "      <td>2.217700e-09</td>\n",
       "      <td>8.563700e-10</td>\n",
       "    </tr>\n",
       "    <tr>\n",
       "      <th>4</th>\n",
       "      <td>1.051100e-10</td>\n",
       "      <td>2.209900e-10</td>\n",
       "      <td>5.564200e-10</td>\n",
       "      <td>1.192700e-09</td>\n",
       "      <td>2.096136e-09</td>\n",
       "      <td>2.520407e-09</td>\n",
       "      <td>4.021868e-09</td>\n",
       "      <td>6.219299e-09</td>\n",
       "      <td>9.032558e-09</td>\n",
       "    </tr>\n",
       "  </tbody>\n",
       "</table>\n",
       "</div>"
      ],
      "text/plain": [
       "    FLUX_GAAP_u   FLUX_GAAP_g   FLUX_GAAP_r   FLUX_GAAP_i   FLUX_GAAP_Z  \\\n",
       "0  1.056200e-11  1.392500e-10  1.615300e-10  2.616000e-10  3.160200e-10   \n",
       "1  6.060100e-11  8.435300e-10  4.170800e-09  7.162000e-09  1.101000e-08   \n",
       "2  1.579000e-10  3.678500e-10  6.326800e-10  8.714600e-10  1.914500e-09   \n",
       "3  2.215500e-10  1.250500e-10  2.747600e-10  2.562200e-10  4.746900e-10   \n",
       "4  1.051100e-10  2.209900e-10  5.564200e-10  1.192700e-09  2.096136e-09   \n",
       "\n",
       "    FLUX_GAAP_Y   FLUX_GAAP_J   FLUX_GAAP_H  FLUX_GAAP_Ks  \n",
       "0  5.578200e-10  2.218589e-10  9.050900e-10  9.245900e-10  \n",
       "1  1.452000e-08  1.828193e-08  2.400500e-08  2.765800e-08  \n",
       "2  1.557100e-09  2.037096e-09  2.146000e-09  5.169600e-09  \n",
       "3  8.904200e-10  3.827740e-10  2.217700e-09  8.563700e-10  \n",
       "4  2.520407e-09  4.021868e-09  6.219299e-09  9.032558e-09  "
      ]
     },
     "execution_count": 380,
     "metadata": {},
     "output_type": "execute_result"
    }
   ],
   "source": [
    "test_flux.head()"
   ]
  },
  {
   "cell_type": "markdown",
   "metadata": {},
   "source": [
    "Processing for the magnitudes. "
   ]
  },
  {
   "cell_type": "code",
   "execution_count": 82,
   "metadata": {},
   "outputs": [],
   "source": [
    "condition_1 = test_mag.values  > test_maglim.values\n",
    "condition_2 = test_magerr.values > 1.0\n",
    "condition_3 = test_flux.values < 0.0"
   ]
  },
  {
   "cell_type": "code",
   "execution_count": 83,
   "metadata": {},
   "outputs": [],
   "source": [
    "test_mag[condition_1 & condition_2 & condition_3] = 99.0"
   ]
  },
  {
   "cell_type": "markdown",
   "metadata": {},
   "source": [
    "Plot the fluxes"
   ]
  },
  {
   "cell_type": "code",
   "execution_count": 84,
   "metadata": {},
   "outputs": [],
   "source": [
    "labels = [r'$u$', r'$g$', r'$r$', r'$i$', r'$Z$', r'$Y$', r'$J$', r'$H$', r'$K_{s}$']"
   ]
  },
  {
   "cell_type": "code",
   "execution_count": 375,
   "metadata": {},
   "outputs": [
    {
     "name": "stdout",
     "output_type": "stream",
     "text": [
      "Number of objects with valid (positive) flux is 3916\n",
      "Number of objects with valid (positive) flux is 4919\n",
      "Number of objects with valid (positive) flux is 5000\n",
      "Number of objects with valid (positive) flux is 4912\n",
      "Number of objects with valid (positive) flux is 4988\n",
      "Number of objects with valid (positive) flux is 4932\n",
      "Number of objects with valid (positive) flux is 4967\n",
      "Number of objects with valid (positive) flux is 4724\n",
      "Number of objects with valid (positive) flux is 4784\n"
     ]
    },
    {
     "data": {
      "image/png": "[encoded data removed]",
      "text/plain": [
       "<Figure size 432x432 with 1 Axes>"
      ]
     },
     "metadata": {
      "needs_background": "light"
     },
     "output_type": "display_data"
    }
   ],
   "source": [
    "plt.figure(figsize=(6, 6))\n",
    "for i in range(9):\n",
    "    fluxvalues = test_flux.values[:,i][test_mag.values[:,i] != 99.0]\n",
    "    print(f'Number of objects with valid (positive) flux is {fluxvalues.shape[0]}')\n",
    "    plt.hist(np.log10(fluxvalues), density=True, bins=20, histtype='step', label = f'{labels[i]}')\n",
    "plt.xlabel(r'$f$', fontsize=15)\n",
    "plt.tick_params(axis=\"x\", labelsize=15)\n",
    "plt.tick_params(axis=\"y\", labelsize=15)\n",
    "plt.legend(loc = 'best',prop={'family':'sans-serif', 'size':15})\n",
    "# plt.savefig('/home/harry/Desktop/scaled_flux.pdf', bbox_inches = 'tight')\n",
    "plt.show()"
   ]
  },
  {
   "cell_type": "markdown",
   "metadata": {},
   "source": [
    "# Filters"
   ]
  },
  {
   "cell_type": "code",
   "execution_count": 91,
   "metadata": {},
   "outputs": [],
   "source": [
    "from typing import Tuple"
   ]
  },
  {
   "cell_type": "code",
   "execution_count": 165,
   "metadata": {},
   "outputs": [],
   "source": [
    "def get_filters(folder: str, filternames: list) -> Tuple[dict, dict, dict]:\n",
    "    \"\"\"\n",
    "    Get the filters to be used to calculate the flux.\n",
    "\n",
    "    Args:\n",
    "        folder (str): folder where the filters are stored.\n",
    "        \n",
    "        filternames (list): name of all the filters\n",
    "\n",
    "    Returns:\n",
    "        Tuple[dict, dict, dict]: the filter, its wavelength range, the minimum and maximum wavelength.\n",
    "    \"\"\"\n",
    "    record = dict()\n",
    "    record_wavelength = dict()\n",
    "    record_minmax = dict()\n",
    "\n",
    "    for f in filternames:\n",
    "        data = np.genfromtxt(os.path.join(folder, f'{f}.res'))\n",
    "        wavelength, filt = data[:, 0], data[:, 1]\n",
    "        if f in ['Z', 'Y', 'J', 'H', 'Ks']:\n",
    "            wavelength *= 10 # because the units are in micron instead of angstrom\n",
    "        \n",
    "        condition = wavelength > 2500\n",
    "        wavelength = wavelength[condition]\n",
    "        filt = filt[condition]\n",
    "        \n",
    "        # the filter is divided by wavelength here\n",
    "        filt /= wavelength\n",
    "        norm = np.trapz(filt, wavelength)\n",
    "        filt /= norm\n",
    "\n",
    "        # find minimum and maximum wavelength\n",
    "        ind = np.where(filt > 0.01 * np.max(filt))[0]\n",
    "        lambda_min, lambda_max = wavelength[ind[0]], wavelength[ind[-1]]\n",
    "\n",
    "        record[f.split(\".\")[0]] = filt\n",
    "        record_minmax[f.split(\".\")[0]] = [lambda_min, lambda_max]\n",
    "        record_wavelength[f.split(\".\")[0]] = wavelength\n",
    "\n",
    "    return record, record_wavelength, record_minmax"
   ]
  },
  {
   "cell_type": "code",
   "execution_count": 191,
   "metadata": {},
   "outputs": [],
   "source": [
    "def get_seds(folder: str, waveref: float = 4e5) -> dict:\n",
    "    \"\"\"\n",
    "    Get the SEDs from the folder and the SEDs are normalised at a particular wavelength.\n",
    "\n",
    "    Args:\n",
    "        folder (str): folder where the SEDs are stored.\n",
    "        waveref (float, optional): the wavelength at which the SEDs are standardised. Defaults to 4e5.\n",
    "\n",
    "    Returns:\n",
    "        dict: dictionary with the standardised SEDs.\n",
    "    \"\"\"\n",
    "    sednames = os.listdir(folder)\n",
    "    seds = dict()\n",
    "    for i, t in enumerate(sednames):\n",
    "        seddata = np.genfromtxt(f\"{folder}/{t}\")\n",
    "        seddata[:, 1] *= seddata[:, 0] ** 2.0 / 3e18\n",
    "        ref = np.interp(waveref, seddata[:, 0], seddata[:, 1])\n",
    "        seddata[:, 1] /= ref\n",
    "        seds[t.split(\".\")[0]] = seddata\n",
    "    return seds"
   ]
  },
  {
   "cell_type": "code",
   "execution_count": 192,
   "metadata": {},
   "outputs": [],
   "source": [
    "seds = get_seds('seds')"
   ]
  },
  {
   "cell_type": "code",
   "execution_count": 167,
   "metadata": {},
   "outputs": [],
   "source": [
    "filters, filterwave, filterwaverange = get_filters('filters', CONFIG.band)"
   ]
  },
  {
   "cell_type": "code",
   "execution_count": 374,
   "metadata": {},
   "outputs": [
    {
     "data": {
      "image/png": "[encoded data removed]",
      "text/plain": [
       "<Figure size 576x432 with 1 Axes>"
      ]
     },
     "metadata": {
      "needs_background": "light"
     },
     "output_type": "display_data"
    }
   ],
   "source": [
    "plt.figure(figsize = (8,6))\n",
    "for i, key in enumerate(CONFIG.band):\n",
    "    plt.plot(filterwave[key], filters[key], lw = 2, label = labels[i])\n",
    "plt.xlim(3000, 2.5E4)\n",
    "plt.ylim(0, 0.0025)\n",
    "plt.ylabel(r'$W_b(\\lambda)$', fontsize=15)\n",
    "plt.xlabel(r'$\\lambda [\\AA]$', fontsize=15)\n",
    "plt.tick_params(axis=\"x\", labelsize=15)\n",
    "plt.tick_params(axis=\"y\", labelsize=15)\n",
    "plt.xscale('log')\n",
    "plt.ticklabel_format(axis='y', style='sci', scilimits=(0,4))\n",
    "plt.legend(loc = 'best',prop={'family':'sans-serif', 'size':15})\n",
    "# plt.savefig('/home/harry/Desktop/filters.pdf', bbox_inches = 'tight')\n",
    "plt.show()"
   ]
  },
  {
   "cell_type": "code",
   "execution_count": 187,
   "metadata": {},
   "outputs": [],
   "source": [
    "def approx_lum_dist(redshift: float) -> float:\n",
    "    \"\"\"\n",
    "    Calculates the approximate luminosity distance given a redshift.\n",
    "\n",
    "    Args:\n",
    "        redshift (float): the redshift value.\n",
    "\n",
    "    Returns:\n",
    "        float: the approximate luminosity distance.\n",
    "    \"\"\"\n",
    "    return np.exp(30.5 * redshift**0.04 - 21.7)"
   ]
  },
  {
   "cell_type": "code",
   "execution_count": 188,
   "metadata": {},
   "outputs": [],
   "source": [
    "def get_flux(\n",
    "    filters: dict, wavelengths: dict, lambdaminmax: dict, seds: dict, redshift: float\n",
    ") -> pd.DataFrame:\n",
    "    \"\"\"\n",
    "    Calculate the theoretical flux. The output is a dataframe of size Nt x Nf,\n",
    "    where Nt is the number of templates and Nf is the number of filters.\n",
    "\n",
    "    Args:\n",
    "        filters (dict): a dictionary of filters.\n",
    "        wavelengths (dict): a dictionary of the wavelength range.\n",
    "        lambdaminmax (dict): the minimum and maximum of wavelength.\n",
    "        seds (dict): a dictionary with all the SEDs/templates.\n",
    "        redshift (float): the redshift value.\n",
    "\n",
    "    Returns:\n",
    "        pd.DataFrame: a dataframe of fluxes for Nt templates and Nf filters.\n",
    "    \"\"\"\n",
    "    scaled_redshift = 1.0 + redshift\n",
    "    nfilters = len(filters)\n",
    "    nseds = len(seds)\n",
    "\n",
    "    # calculate pre-factor\n",
    "    lum_dist = approx_lum_dist(redshift)\n",
    "    prefactor = scaled_redshift**2 / (4.0 * np.pi * lum_dist**2)\n",
    "\n",
    "    # empty array to store the fluxes\n",
    "    record_fluxes = dict()\n",
    "\n",
    "    for i, s in enumerate(seds):\n",
    "        fluxes = np.zeros(nfilters)\n",
    "        for j, f in enumerate(filters):\n",
    "            wave_grid = np.linspace(\n",
    "                lambdaminmax[f][0] / scaled_redshift,\n",
    "                lambdaminmax[f][1] / scaled_redshift,\n",
    "                5000,\n",
    "            )\n",
    "            filter_interp = interp1d(wavelengths[f] / scaled_redshift, filters[f])\n",
    "            sed_interp = interp1d(seds[s][:, 0], seds[s][:, 1])\n",
    "            filter_new = filter_interp(wave_grid)\n",
    "            sed_new = sed_interp(wave_grid)\n",
    "            fluxes[j] = prefactor * np.trapz(sed_new * filter_new, wave_grid)\n",
    "        record_fluxes[s] = fluxes\n",
    "    record_fluxes = pd.DataFrame(record_fluxes).T\n",
    "    record_fluxes.columns = filters.keys()\n",
    "    return record_fluxes"
   ]
  },
  {
   "cell_type": "code",
   "execution_count": 220,
   "metadata": {},
   "outputs": [],
   "source": [
    "theory_flux = get_flux(filters, filterwave, filterwaverange, seds, 1.0)"
   ]
  },
  {
   "cell_type": "code",
   "execution_count": 221,
   "metadata": {},
   "outputs": [
    {
     "data": {
      "text/html": [
       "<div>\n",
       "<style scoped>\n",
       "    .dataframe tbody tr th:only-of-type {\n",
       "        vertical-align: middle;\n",
       "    }\n",
       "\n",
       "    .dataframe tbody tr th {\n",
       "        vertical-align: top;\n",
       "    }\n",
       "\n",
       "    .dataframe thead th {\n",
       "        text-align: right;\n",
       "    }\n",
       "</style>\n",
       "<table border=\"1\" class=\"dataframe\">\n",
       "  <thead>\n",
       "    <tr style=\"text-align: right;\">\n",
       "      <th></th>\n",
       "      <th>u</th>\n",
       "      <th>g</th>\n",
       "      <th>r</th>\n",
       "      <th>i</th>\n",
       "      <th>Z</th>\n",
       "      <th>Y</th>\n",
       "      <th>J</th>\n",
       "      <th>H</th>\n",
       "      <th>Ks</th>\n",
       "    </tr>\n",
       "  </thead>\n",
       "  <tbody>\n",
       "    <tr>\n",
       "      <th>Im_B2004a</th>\n",
       "      <td>7.098853e-10</td>\n",
       "      <td>8.095591e-10</td>\n",
       "      <td>9.628013e-10</td>\n",
       "      <td>1.575225e-09</td>\n",
       "      <td>2.202935e-09</td>\n",
       "      <td>2.847287e-09</td>\n",
       "      <td>3.040785e-09</td>\n",
       "      <td>3.672563e-09</td>\n",
       "      <td>4.407923e-09</td>\n",
       "    </tr>\n",
       "    <tr>\n",
       "      <th>ssp_5Myr_z008</th>\n",
       "      <td>1.494386e-05</td>\n",
       "      <td>1.281550e-05</td>\n",
       "      <td>9.989135e-06</td>\n",
       "      <td>9.206243e-06</td>\n",
       "      <td>8.613740e-06</td>\n",
       "      <td>6.834048e-06</td>\n",
       "      <td>5.407470e-06</td>\n",
       "      <td>3.918562e-06</td>\n",
       "      <td>2.819263e-06</td>\n",
       "    </tr>\n",
       "    <tr>\n",
       "      <th>Scd_B2004a</th>\n",
       "      <td>4.400613e-10</td>\n",
       "      <td>5.473817e-10</td>\n",
       "      <td>8.416051e-10</td>\n",
       "      <td>1.494811e-09</td>\n",
       "      <td>2.486833e-09</td>\n",
       "      <td>3.289377e-09</td>\n",
       "      <td>4.399265e-09</td>\n",
       "      <td>5.341645e-09</td>\n",
       "      <td>6.428417e-09</td>\n",
       "    </tr>\n",
       "    <tr>\n",
       "      <th>ssp_25Myr_z008</th>\n",
       "      <td>1.022012e-06</td>\n",
       "      <td>9.594426e-07</td>\n",
       "      <td>8.517016e-07</td>\n",
       "      <td>9.414737e-07</td>\n",
       "      <td>1.127013e-06</td>\n",
       "      <td>1.013883e-06</td>\n",
       "      <td>9.978718e-07</td>\n",
       "      <td>1.009470e-06</td>\n",
       "      <td>1.090609e-06</td>\n",
       "    </tr>\n",
       "    <tr>\n",
       "      <th>El_B2004a</th>\n",
       "      <td>3.267202e-11</td>\n",
       "      <td>1.028649e-10</td>\n",
       "      <td>9.177936e-10</td>\n",
       "      <td>2.254420e-09</td>\n",
       "      <td>5.645746e-09</td>\n",
       "      <td>9.086690e-09</td>\n",
       "      <td>1.508772e-08</td>\n",
       "      <td>2.284197e-08</td>\n",
       "      <td>2.995069e-08</td>\n",
       "    </tr>\n",
       "    <tr>\n",
       "      <th>Sbc_B2004a</th>\n",
       "      <td>1.241417e-10</td>\n",
       "      <td>1.938843e-10</td>\n",
       "      <td>3.780160e-10</td>\n",
       "      <td>9.458631e-10</td>\n",
       "      <td>1.775450e-09</td>\n",
       "      <td>2.432129e-09</td>\n",
       "      <td>3.608660e-09</td>\n",
       "      <td>5.080588e-09</td>\n",
       "      <td>7.513007e-09</td>\n",
       "    </tr>\n",
       "    <tr>\n",
       "      <th>SB3_B2004a</th>\n",
       "      <td>2.543377e-09</td>\n",
       "      <td>2.846407e-09</td>\n",
       "      <td>3.613912e-09</td>\n",
       "      <td>5.081096e-09</td>\n",
       "      <td>8.091822e-09</td>\n",
       "      <td>9.554061e-09</td>\n",
       "      <td>1.329188e-08</td>\n",
       "      <td>1.577905e-08</td>\n",
       "      <td>2.070195e-08</td>\n",
       "    </tr>\n",
       "    <tr>\n",
       "      <th>SB2_B2004a</th>\n",
       "      <td>6.207456e-09</td>\n",
       "      <td>6.273813e-09</td>\n",
       "      <td>7.315345e-09</td>\n",
       "      <td>1.034724e-08</td>\n",
       "      <td>1.235894e-08</td>\n",
       "      <td>1.974206e-08</td>\n",
       "      <td>1.838557e-08</td>\n",
       "      <td>1.825236e-08</td>\n",
       "      <td>1.897642e-08</td>\n",
       "    </tr>\n",
       "  </tbody>\n",
       "</table>\n",
       "</div>"
      ],
      "text/plain": [
       "                           u             g             r             i  \\\n",
       "Im_B2004a       7.098853e-10  8.095591e-10  9.628013e-10  1.575225e-09   \n",
       "ssp_5Myr_z008   1.494386e-05  1.281550e-05  9.989135e-06  9.206243e-06   \n",
       "Scd_B2004a      4.400613e-10  5.473817e-10  8.416051e-10  1.494811e-09   \n",
       "ssp_25Myr_z008  1.022012e-06  9.594426e-07  8.517016e-07  9.414737e-07   \n",
       "El_B2004a       3.267202e-11  1.028649e-10  9.177936e-10  2.254420e-09   \n",
       "Sbc_B2004a      1.241417e-10  1.938843e-10  3.780160e-10  9.458631e-10   \n",
       "SB3_B2004a      2.543377e-09  2.846407e-09  3.613912e-09  5.081096e-09   \n",
       "SB2_B2004a      6.207456e-09  6.273813e-09  7.315345e-09  1.034724e-08   \n",
       "\n",
       "                           Z             Y             J             H  \\\n",
       "Im_B2004a       2.202935e-09  2.847287e-09  3.040785e-09  3.672563e-09   \n",
       "ssp_5Myr_z008   8.613740e-06  6.834048e-06  5.407470e-06  3.918562e-06   \n",
       "Scd_B2004a      2.486833e-09  3.289377e-09  4.399265e-09  5.341645e-09   \n",
       "ssp_25Myr_z008  1.127013e-06  1.013883e-06  9.978718e-07  1.009470e-06   \n",
       "El_B2004a       5.645746e-09  9.086690e-09  1.508772e-08  2.284197e-08   \n",
       "Sbc_B2004a      1.775450e-09  2.432129e-09  3.608660e-09  5.080588e-09   \n",
       "SB3_B2004a      8.091822e-09  9.554061e-09  1.329188e-08  1.577905e-08   \n",
       "SB2_B2004a      1.235894e-08  1.974206e-08  1.838557e-08  1.825236e-08   \n",
       "\n",
       "                          Ks  \n",
       "Im_B2004a       4.407923e-09  \n",
       "ssp_5Myr_z008   2.819263e-06  \n",
       "Scd_B2004a      6.428417e-09  \n",
       "ssp_25Myr_z008  1.090609e-06  \n",
       "El_B2004a       2.995069e-08  \n",
       "Sbc_B2004a      7.513007e-09  \n",
       "SB3_B2004a      2.070195e-08  \n",
       "SB2_B2004a      1.897642e-08  "
      ]
     },
     "execution_count": 221,
     "metadata": {},
     "output_type": "execute_result"
    }
   ],
   "source": [
    "theory_flux"
   ]
  },
  {
   "cell_type": "code",
   "execution_count": 196,
   "metadata": {},
   "outputs": [
    {
     "data": {
      "text/plain": [
       "MAG_GAAP_u     99.000000\n",
       "MAG_GAAP_g     24.546875\n",
       "MAG_GAAP_r     24.421875\n",
       "MAG_GAAP_i     23.921875\n",
       "MAG_GAAP_Z     23.718750\n",
       "MAG_GAAP_Y     23.093750\n",
       "MAG_GAAP_J     24.109375\n",
       "MAG_GAAP_H     22.593750\n",
       "MAG_GAAP_Ks    22.578125\n",
       "Name: 0, dtype: float16"
      ]
     },
     "execution_count": 196,
     "metadata": {},
     "output_type": "execute_result"
    }
   ],
   "source": [
    "test_mag.iloc[0]"
   ]
  },
  {
   "cell_type": "code",
   "execution_count": 197,
   "metadata": {},
   "outputs": [
    {
     "data": {
      "text/plain": [
       "FLUX_GAAP_u     1.056200e-11\n",
       "FLUX_GAAP_g     1.392500e-10\n",
       "FLUX_GAAP_r     1.615300e-10\n",
       "FLUX_GAAP_i     2.616000e-10\n",
       "FLUX_GAAP_Z     3.160200e-10\n",
       "FLUX_GAAP_Y     5.578200e-10\n",
       "FLUX_GAAP_J     2.218589e-10\n",
       "FLUX_GAAP_H     9.050900e-10\n",
       "FLUX_GAAP_Ks    9.245900e-10\n",
       "Name: 0, dtype: float32"
      ]
     },
     "execution_count": 197,
     "metadata": {},
     "output_type": "execute_result"
    }
   ],
   "source": [
    "test_flux.iloc[0]"
   ]
  },
  {
   "cell_type": "code",
   "execution_count": 198,
   "metadata": {},
   "outputs": [
    {
     "data": {
      "text/plain": [
       "FLUXERR_GAAP_u     6.540000e-11\n",
       "FLUXERR_GAAP_g     2.810000e-11\n",
       "FLUXERR_GAAP_r     3.120000e-11\n",
       "FLUXERR_GAAP_i     7.300000e-11\n",
       "FLUXERR_GAAP_Z     1.610000e-10\n",
       "FLUXERR_GAAP_Y     3.810000e-10\n",
       "FLUXERR_GAAP_J     4.248053e-10\n",
       "FLUXERR_GAAP_H     1.030000e-09\n",
       "FLUXERR_GAAP_Ks    9.430000e-10\n",
       "Name: 0, dtype: float32"
      ]
     },
     "execution_count": 198,
     "metadata": {},
     "output_type": "execute_result"
    }
   ],
   "source": [
    "test_flux_err.iloc[0]"
   ]
  },
  {
   "cell_type": "code",
   "execution_count": 226,
   "metadata": {},
   "outputs": [
    {
     "data": {
      "text/plain": [
       "u     7.098853e-10\n",
       "g     8.095591e-10\n",
       "r     9.628013e-10\n",
       "i     1.575225e-09\n",
       "Z     2.202935e-09\n",
       "Y     2.847287e-09\n",
       "J     3.040785e-09\n",
       "H     3.672563e-09\n",
       "Ks    4.407923e-09\n",
       "Name: Im_B2004a, dtype: float64"
      ]
     },
     "execution_count": 226,
     "metadata": {},
     "output_type": "execute_result"
    }
   ],
   "source": [
    "theory_flux.iloc[0]"
   ]
  },
  {
   "cell_type": "code",
   "execution_count": 348,
   "metadata": {},
   "outputs": [],
   "source": [
    "def calculate_loglike_single(data: np.ndarray, theory: np.ndarray, sigma: np.ndarray, magnitudes: np.ndarray):\n",
    "    \n",
    "    loglike = 0.0\n",
    "    nband = len(data)\n",
    "    for i in range(nband):\n",
    "        if magnitudes[i] == 99.0:\n",
    "            logfunc = calculate_erfc(theory[i], sigma[i])\n",
    "        else:\n",
    "            normal = ss.norm(theory[i], sigma[i])\n",
    "            logfunc = normal.logpdf(data[i])\n",
    "        loglike += logfunc\n",
    "    return loglike"
   ]
  },
  {
   "cell_type": "code",
   "execution_count": 349,
   "metadata": {},
   "outputs": [],
   "source": [
    "index = 0"
   ]
  },
  {
   "cell_type": "code",
   "execution_count": 350,
   "metadata": {},
   "outputs": [
    {
     "data": {
      "text/plain": [
       "-723.9619384756147"
      ]
     },
     "execution_count": 350,
     "metadata": {},
     "output_type": "execute_result"
    }
   ],
   "source": [
    "calculate_loglike_single(test_flux.iloc[index].values, theory_flux.iloc[index].values, \n",
    "                         test_flux_err.iloc[index].values, test_mag.iloc[index].values)"
   ]
  },
  {
   "cell_type": "markdown",
   "metadata": {},
   "source": [
    "## Understand Error Function"
   ]
  },
  {
   "cell_type": "code",
   "execution_count": 364,
   "metadata": {},
   "outputs": [],
   "source": [
    "import scipy.stats as ss \n",
    "from scipy.special import erf, erfc, erfcx\n",
    "from scipy.stats import norm"
   ]
  },
  {
   "cell_type": "code",
   "execution_count": 823,
   "metadata": {},
   "outputs": [],
   "source": [
    "def error_function(theory, sigma):\n",
    "    lower = -5.0 * sigma\n",
    "    upper = 5.0 * sigma\n",
    "    factor_lower = (lower - theory) / (sigma * np.sqrt(2))\n",
    "    factor_upper = (upper - theory) / (sigma * np.sqrt(2))\n",
    "    erf_func = 0.5 * (erf(factor_upper) - erf(factor_lower))\n",
    "    return erf_func"
   ]
  },
  {
   "cell_type": "code",
   "execution_count": 824,
   "metadata": {},
   "outputs": [],
   "source": [
    "sigma = 3.0\n",
    "nfact = 2.0\n",
    "theory = np.linspace(nfact*lower, nfact*upper, 500)"
   ]
  },
  {
   "cell_type": "code",
   "execution_count": 830,
   "metadata": {},
   "outputs": [],
   "source": [
    "pdf = ss.norm(0.0, sigma).pdf(theory)\n",
    "erf_function = error_function(theory, sigma)\n",
    "erf_function /= np.trapz(erf_function, theory)"
   ]
  },
  {
   "cell_type": "code",
   "execution_count": 831,
   "metadata": {},
   "outputs": [
    {
     "data": {
      "image/png": "[encoded data removed]",
      "text/plain": [
       "<Figure size 432x288 with 1 Axes>"
      ]
     },
     "metadata": {
      "needs_background": "light"
     },
     "output_type": "display_data"
    }
   ],
   "source": [
    "plt.figure()\n",
    "plt.plot(theory, erf_function, label = 'erf')\n",
    "plt.plot(theory, pdf, label = 'pdf')\n",
    "plt.xlim(0, nfact*upper)\n",
    "plt.ylim(0.0, 1.2*max([max(pdf), max(erf_function)]))\n",
    "plt.legend()\n",
    "# plt.savefig('/home/harry/Desktop/test_sigma_equal_three.pdf', bbox_inches = 'tight')\n",
    "plt.show()"
   ]
  },
  {
   "cell_type": "markdown",
   "metadata": {},
   "source": [
    "# Error Functions\n",
    "- normal\n",
    "- erf\n",
    "- erfc"
   ]
  },
  {
   "cell_type": "code",
   "execution_count": 22,
   "metadata": {},
   "outputs": [],
   "source": [
    "grid = np.linspace(-5, 5, 1000)\n",
    "dist = norm(0, 1)\n",
    "ypdf = dist.pdf(grid)\n",
    "yerf = erf(grid)\n",
    "yerfc = erfc(grid)"
   ]
  },
  {
   "cell_type": "code",
   "execution_count": 92,
   "metadata": {},
   "outputs": [
    {
     "data": {
      "image/png": "[encoded data removed]",
      "text/plain": [
       "<Figure size 576x432 with 1 Axes>"
      ]
     },
     "metadata": {
      "needs_background": "light"
     },
     "output_type": "display_data"
    }
   ],
   "source": [
    "plt.figure(figsize=(8,6))\n",
    "plt.plot(grid, ypdf, lw=2, label = r'$p(x)$')\n",
    "plt.plot(grid, yerf, lw=2, label = 'erf')\n",
    "plt.plot(grid, yerfc, lw=2, label = 'erfc')\n",
    "plt.ylabel(r'$f(x)$', fontsize = fontSize)\n",
    "plt.xlabel(r'$x$', fontsize = fontSize)\n",
    "plt.tick_params(axis='x', labelsize=fontSize)\n",
    "plt.tick_params(axis='y', labelsize=fontSize)\n",
    "plt.legend(loc = 'best',prop={'family':'sans-serif', 'size':15})\n",
    "plt.xlim(0,max(grid))\n",
    "plt.ylim(0.0, 1.2)\n",
    "plt.show()"
   ]
  },
  {
   "cell_type": "markdown",
   "metadata": {},
   "source": [
    "Example of magnitude with mean = 99 and error = 6.722656. \n",
    "\n",
    "Some relations between the cumulative distribution function, $\\Phi$ and the error function, $\\texttt{erf}$ (and complementary error function, $\\texttt{erfc}$) are given below:\n",
    "\n",
    "$$\\texttt{erf}(x)=2\\Phi(\\sqrt{2}x)-1$$\n",
    "\n",
    "$$\\texttt{erfc}(x)=2\\Phi_{c}(\\sqrt{2}x)$$\n",
    "\n",
    "where $\\Phi_{c}(x)=1-\\Phi(x)$ or we can simply use the relation $\\texttt{erfc}(x)=1 - \\texttt{erf}(x)$."
   ]
  },
  {
   "cell_type": "code",
   "execution_count": 86,
   "metadata": {},
   "outputs": [],
   "source": [
    "value = 99\n",
    "error = 6.722656\n",
    "mag_dist = norm(value, error)\n",
    "mag_grid = np.linspace(15, value + 5*error, 1000)\n",
    "mag_pdf = mag_dist.pdf(mag_grid)\n",
    "mag_cdf = mag_dist.cdf(mag_grid)"
   ]
  },
  {
   "cell_type": "code",
   "execution_count": 87,
   "metadata": {},
   "outputs": [],
   "source": [
    "mag_erf = 2 * mag_dist.cdf(np.sqrt(2) * mag_grid) - 1\n",
    "mag_erfc = 1 - mag_erf"
   ]
  },
  {
   "cell_type": "code",
   "execution_count": 108,
   "metadata": {},
   "outputs": [
    {
     "data": {
      "image/png": "[encoded data removed]",
      "text/plain": [
       "<Figure size 1008x432 with 2 Axes>"
      ]
     },
     "metadata": {
      "needs_background": "light"
     },
     "output_type": "display_data"
    }
   ],
   "source": [
    "plt.figure(figsize=(14,6))\n",
    "plt.subplot(121)\n",
    "plt.plot(mag_grid, mag_erf, lw=2, label = 'erf')\n",
    "plt.plot(mag_grid, mag_erfc, lw=2, label = 'erfc')\n",
    "plt.ylabel(r'$f(m)$', fontsize = fontSize)\n",
    "plt.xlabel(r'$m$', fontsize = fontSize)\n",
    "plt.tick_params(axis='x', labelsize=fontSize)\n",
    "plt.tick_params(axis='y', labelsize=fontSize)\n",
    "plt.legend(loc = 'best',prop={'family':'sans-serif', 'size':15})\n",
    "plt.xlim(min(mag_grid), max(mag_grid))\n",
    "\n",
    "plt.subplot(122)\n",
    "plt.plot(mag_grid, mag_pdf, lw=2, label = r'$p(m)$')\n",
    "plt.ylabel(r'$p(m)$', fontsize = fontSize)\n",
    "plt.xlabel(r'$m$', fontsize = fontSize)\n",
    "plt.tick_params(axis='x', labelsize=fontSize)\n",
    "plt.tick_params(axis='y', labelsize=fontSize)\n",
    "plt.ylim(0.0, 1.2*max(mag_pdf))\n",
    "plt.xlim(min(mag_grid), max(mag_grid))\n",
    "plt.show()"
   ]
  },
  {
   "cell_type": "code",
   "execution_count": 70,
   "metadata": {},
   "outputs": [],
   "source": [
    "f_example = df_flux.iloc[0].values\n",
    "ferr_example = df_flux_err.iloc[0].values\n",
    "\n",
    "mag_example = df_mag.iloc[0].values\n",
    "magerr_example = df_magerr.iloc[0].values\n",
    "\n",
    "maglim_example = df_mag_lim.iloc[0].values"
   ]
  },
  {
   "cell_type": "code",
   "execution_count": 71,
   "metadata": {},
   "outputs": [],
   "source": [
    "fcorr = np.copy(f_example)\n",
    "ferrcorr = np.copy(ferr_example)"
   ]
  },
  {
   "cell_type": "code",
   "execution_count": 72,
   "metadata": {},
   "outputs": [],
   "source": [
    "fcorr[4:] *= 1E-12\n",
    "ferrcorr[4:] *= 1E-12"
   ]
  },
  {
   "cell_type": "code",
   "execution_count": 73,
   "metadata": {},
   "outputs": [
    {
     "data": {
      "text/plain": [
       "array([1.056200e-11, 1.392500e-10, 1.615300e-10, 2.616000e-10,\n",
       "       3.160200e+02, 5.578200e+02, 2.218589e+02, 9.050900e+02,\n",
       "       9.245900e+02], dtype=float32)"
      ]
     },
     "execution_count": 73,
     "metadata": {},
     "output_type": "execute_result"
    }
   ],
   "source": [
    "f_example"
   ]
  },
  {
   "cell_type": "code",
   "execution_count": 74,
   "metadata": {},
   "outputs": [
    {
     "data": {
      "text/plain": [
       "array([6.540000e-11, 2.810000e-11, 3.120000e-11, 7.300000e-11,\n",
       "       1.610000e+02, 3.810000e+02, 4.248053e+02, 1.030000e+03,\n",
       "       9.430000e+02], dtype=float32)"
      ]
     },
     "execution_count": 74,
     "metadata": {},
     "output_type": "execute_result"
    }
   ],
   "source": [
    "ferr_example"
   ]
  },
  {
   "cell_type": "code",
   "execution_count": 75,
   "metadata": {},
   "outputs": [
    {
     "data": {
      "text/plain": [
       "array([1.056200e-11, 1.392500e-10, 1.615300e-10, 2.616000e-10,\n",
       "       3.160200e-10, 5.578200e-10, 2.218589e-10, 9.050900e-10,\n",
       "       9.245900e-10], dtype=float32)"
      ]
     },
     "execution_count": 75,
     "metadata": {},
     "output_type": "execute_result"
    }
   ],
   "source": [
    "fcorr"
   ]
  },
  {
   "cell_type": "code",
   "execution_count": 76,
   "metadata": {},
   "outputs": [
    {
     "data": {
      "text/plain": [
       "array([6.540000e-11, 2.810000e-11, 3.120000e-11, 7.300000e-11,\n",
       "       1.610000e-10, 3.810000e-10, 4.248053e-10, 1.030000e-09,\n",
       "       9.430000e-10], dtype=float32)"
      ]
     },
     "execution_count": 76,
     "metadata": {},
     "output_type": "execute_result"
    }
   ],
   "source": [
    "ferrcorr"
   ]
  },
  {
   "cell_type": "code",
   "execution_count": 77,
   "metadata": {},
   "outputs": [
    {
     "data": {
      "text/plain": [
       "array([99.  , 24.55, 24.42, 23.92, 23.72, 23.1 , 24.11, 22.6 , 22.58],\n",
       "      dtype=float16)"
      ]
     },
     "execution_count": 77,
     "metadata": {},
     "output_type": "execute_result"
    }
   ],
   "source": [
    "mag_example"
   ]
  },
  {
   "cell_type": "code",
   "execution_count": 78,
   "metadata": {},
   "outputs": [
    {
     "data": {
      "text/plain": [
       "array([6.723 , 0.2191, 0.2097, 0.303 , 0.553 , 0.7417, 2.078 , 1.235 ,\n",
       "       1.107 ], dtype=float16)"
      ]
     },
     "execution_count": 78,
     "metadata": {},
     "output_type": "execute_result"
    }
   ],
   "source": [
    "magerr_example"
   ]
  },
  {
   "cell_type": "code",
   "execution_count": 79,
   "metadata": {},
   "outputs": [
    {
     "data": {
      "text/plain": [
       "array([25.5 , 26.39, 26.28, 25.36, 24.48, 23.55, 23.42, 22.47, 22.56],\n",
       "      dtype=float16)"
      ]
     },
     "execution_count": 79,
     "metadata": {},
     "output_type": "execute_result"
    }
   ],
   "source": [
    "maglim_example"
   ]
  },
  {
   "cell_type": "code",
   "execution_count": 55,
   "metadata": {},
   "outputs": [
    {
     "data": {
      "text/plain": [
       "array([6.192009  , 0.20179532, 0.19315298, 0.279052  , 0.50946146,\n",
       "       0.683016  , 1.9147544 , 1.1380084 , 1.0199115 ], dtype=float32)"
      ]
     },
     "execution_count": 55,
     "metadata": {},
     "output_type": "execute_result"
    }
   ],
   "source": [
    "ferrcorr/fcorr"
   ]
  },
  {
   "cell_type": "code",
   "execution_count": 94,
   "metadata": {},
   "outputs": [],
   "source": [
    "index = 0\n",
    "value = fcorr[index]\n",
    "error = ferrcorr[index]\n",
    "flux_dist = norm(value, error)\n",
    "flux_grid = np.linspace(value - 5*error, value + 5*error, 1000)\n",
    "flux_pdf = flux_dist.pdf(flux_grid)\n",
    "flux_cdf = flux_dist.cdf(flux_grid)\n",
    "flux_erf = 2 * flux_dist.cdf(np.sqrt(2) * flux_grid) - 1\n",
    "flux_erfc = 1 - flux_erf"
   ]
  },
  {
   "cell_type": "code",
   "execution_count": 103,
   "metadata": {},
   "outputs": [
    {
     "data": {
      "image/png": "[encoded data removed]",
      "text/plain": [
       "<Figure size 864x432 with 2 Axes>"
      ]
     },
     "metadata": {
      "needs_background": "light"
     },
     "output_type": "display_data"
    }
   ],
   "source": [
    "plt.figure(figsize=(12,6))\n",
    "\n",
    "plt.subplot(121)\n",
    "plt.plot(flux_grid, flux_erf, lw=2, label = 'erf')\n",
    "plt.plot(flux_grid, flux_erfc, lw=2, label = 'erfc', linestyle = '--')\n",
    "plt.ylabel(r'$f(F)$', fontsize = fontSize)\n",
    "plt.xlabel(r'$F$', fontsize = fontSize)\n",
    "plt.tick_params(axis='x', labelsize=fontSize)\n",
    "plt.tick_params(axis='y', labelsize=fontSize)\n",
    "plt.legend(loc = 'best',prop={'family':'sans-serif', 'size':15})\n",
    "plt.xlim(0, max(flux_grid))\n",
    "plt.subplot(122)\n",
    "plt.plot(flux_grid, flux_pdf, lw=2, label = r'$p(F)$')\n",
    "plt.ylabel(r'$p(F)$', fontsize = fontSize)\n",
    "plt.xlabel(r'$F$', fontsize = fontSize)\n",
    "plt.tick_params(axis='x', labelsize=fontSize)\n",
    "plt.tick_params(axis='y', labelsize=fontSize)\n",
    "plt.xlim(min(flux_grid), max(flux_grid))\n",
    "plt.ylim(0, 1.2*max(flux_pdf))\n",
    "plt.show()"
   ]
  },
  {
   "cell_type": "markdown",
   "metadata": {},
   "source": [
    "## Condition 1 \n",
    "\n",
    "All values of magnitude should be less than the magnitude limit. If all the values of magnitude is less than the magnitude limit, then we keep that row (and is denoted by a 1). "
   ]
  },
  {
   "cell_type": "code",
   "execution_count": 22,
   "metadata": {},
   "outputs": [],
   "source": [
    "condition_1 = np.sum((df_mag.values < df_mag_lim.values)*1, axis = 1)\n",
    "condition_1 = (condition_1 == 9) * 1 "
   ]
  },
  {
   "cell_type": "markdown",
   "metadata": {},
   "source": [
    "## Apply Corrections"
   ]
  },
  {
   "cell_type": "code",
   "execution_count": 163,
   "metadata": {},
   "outputs": [],
   "source": [
    "test_mag = df_mag[condition_1 == 1].values\n",
    "test_mag_err = df_magerr[condition_1 == 1].values\n",
    "test_flux = df_flux[condition_1 == 1].values\n",
    "test_flux_err = df_flux_err[condition_1 == 1].values\n",
    "test_ext = df_ext[condition_1 == 1].values\n",
    "test_names = df_names[condition_1 == 1].values.reshape(-1)\n",
    "test_redshifts = df_redshifts[condition_1 == 1].values"
   ]
  },
  {
   "cell_type": "code",
   "execution_count": 186,
   "metadata": {},
   "outputs": [
    {
     "data": {
      "text/plain": [
       "14674588"
      ]
     },
     "execution_count": 186,
     "metadata": {},
     "output_type": "execute_result"
    }
   ],
   "source": [
    "test_mag.shape[0]"
   ]
  },
  {
   "cell_type": "code",
   "execution_count": 187,
   "metadata": {},
   "outputs": [
    {
     "data": {
      "text/plain": [
       "21262011"
      ]
     },
     "execution_count": 187,
     "metadata": {},
     "output_type": "execute_result"
    }
   ],
   "source": [
    "df_mag.shape[0]"
   ]
  },
  {
   "cell_type": "code",
   "execution_count": 191,
   "metadata": {},
   "outputs": [
    {
     "name": "stdout",
     "output_type": "stream",
     "text": [
      "Fraction of data being used is: 0.690\n"
     ]
    }
   ],
   "source": [
    "print(f'Fraction of data being used is: {test_mag.shape[0]/df_mag.shape[0]:.3f}')"
   ]
  },
  {
   "cell_type": "code",
   "execution_count": 204,
   "metadata": {},
   "outputs": [],
   "source": [
    "def calculate_corrections(magnitudes, magnitudes_error, flux, flux_error, extinction, names, redshifts):\n",
    "    unique_names = np.unique(names)\n",
    "    nunique = len(unique_names)\n",
    "    print(f'Number of patches is: {nunique}')\n",
    "    patches = dict()\n",
    "    for i in range(5):\n",
    "        record = dict()\n",
    "        patch = names == unique_names[i]\n",
    "        record['magnitudes'] = magnitudes[patch] - extinction[patch]\n",
    "        record['magnitudes_err'] = magnitudes_error[patch]\n",
    "        scaled_magnitude = magnitudes[patch] + 2.5 * np.log10(flux[patch])\n",
    "        correction = 10**(0.4*extinction[patch]) * 10**(-0.4 * np.median(scaled_magnitude, axis = 0))\n",
    "        record['flux_corr'] = flux[patch] * correction\n",
    "        record['flux_err_corr'] = flux_error[patch] * correction\n",
    "        record['redshifts'] = redshifts[patch]\n",
    "        patches[unique_names[i]] = record\n",
    "    return patches"
   ]
  },
  {
   "cell_type": "code",
   "execution_count": null,
   "metadata": {},
   "outputs": [],
   "source": [
    "patches = calculate_corrections(test_mag, test_mag_err, test_flux, test_flux_err, test_ext, test_names, test_redshifts)"
   ]
  },
  {
   "cell_type": "code",
   "execution_count": 176,
   "metadata": {},
   "outputs": [
    {
     "data": {
      "text/plain": [
       "dict_keys(['KIDS_0p0_m28p2', 'KIDS_0p0_m29p2', 'KIDS_0p0_m30p2', 'KIDS_0p0_m31p2', 'KIDS_0p0_m32p1'])"
      ]
     },
     "execution_count": 176,
     "metadata": {},
     "output_type": "execute_result"
    }
   ],
   "source": [
    "patches.keys()"
   ]
  },
  {
   "cell_type": "code",
   "execution_count": 193,
   "metadata": {},
   "outputs": [],
   "source": [
    "# import utils.helpers as hp\n",
    "# hp.pickle_save(patches, './', 'testing')"
   ]
  },
  {
   "cell_type": "code",
   "execution_count": 197,
   "metadata": {},
   "outputs": [
    {
     "data": {
      "image/png": "[encoded data removed]",
      "text/plain": [
       "<Figure size 864x360 with 2 Axes>"
      ]
     },
     "metadata": {
      "needs_background": "light"
     },
     "output_type": "display_data"
    }
   ],
   "source": [
    "plt.figure(figsize = (12,5))\n",
    "plt.subplot(121)\n",
    "plt.title('KIDS\\_0p0\\_m28p2')\n",
    "for i in range(9):\n",
    "    plt.hist(np.log10(patches['KIDS_0p0_m28p2']['flux_corr'][:,i]), density = True, bins=25, histtype='step', label = CONFIG.band[i])\n",
    "plt.xlabel(r'$\\textrm{log}_{10}\\;f$')\n",
    "plt.legend()\n",
    "plt.subplot(122)\n",
    "plt.title('KIDS\\_0p0\\_m29p2')\n",
    "for i in range(9):\n",
    "    plt.hist(np.log10(patches['KIDS_0p0_m29p2']['flux_corr'][:,i]), density = True, bins=25, histtype='step', label = CONFIG.band[i])\n",
    "plt.xlabel(r'$\\textrm{log}_{10}\\;f$')    \n",
    "plt.legend()\n",
    "plt.show()"
   ]
  },
  {
   "cell_type": "markdown",
   "metadata": {},
   "source": [
    "# Position on Sky"
   ]
  },
  {
   "cell_type": "code",
   "execution_count": null,
   "metadata": {},
   "outputs": [],
   "source": [
    "xarr, yarr = data['ALPHA_J2000'], data['DELTA_J2000']\n",
    "nobjects = 1000000\n",
    "idx = random.sample(range(len(xarr)), nobjects)\n",
    "eq = SkyCoord(xarr[idx], yarr[idx], unit=u.deg)\n",
    "gal = eq.galactic\n",
    "colors = np.random.random((nobjects, 3))"
   ]
  },
  {
   "cell_type": "code",
   "execution_count": null,
   "metadata": {},
   "outputs": [],
   "source": [
    "plt.figure(figsize = (12, 8))\n",
    "plt.subplot(111, projection='aitoff')\n",
    "plt.grid(True)\n",
    "plt.scatter(gal.l.wrap_at('180d').radian, gal.b.radian, s=10, c=colors, alpha=0.6, edgecolors=colors, rasterized=True)\n",
    "plt.xticks(fontsize=20)\n",
    "plt.yticks(fontsize=20)\n",
    "# plt.savefig('plots/skymap.pdf', bbox_inches = 'tight')\n",
    "plt.show()"
   ]
  },
  {
   "cell_type": "markdown",
   "metadata": {},
   "source": [
    "# Processing\n",
    "\n",
    "Process the data in such as way that we have 6 files stored \n",
    "\n",
    "- flux \n",
    "- flux errors \n",
    "- magnitude\n",
    "- magnitude error \n",
    "- BPZ \n",
    "- meta data \n",
    "\n",
    "We can process the whole data and this will be stored in data/processed or we can take a subset of $N$ galaxies and these will be stored in data/sets."
   ]
  },
  {
   "cell_type": "code",
   "execution_count": 2,
   "metadata": {},
   "outputs": [],
   "source": [
    "from src.processing import cleaning "
   ]
  },
  {
   "cell_type": "code",
   "execution_count": null,
   "metadata": {},
   "outputs": [],
   "source": [
    "fits_image = fits.open('data/catalogue/KiDS_DR4.1_ugriZYJHKs_SOM_gold_WL_cat.fits')\n",
    "\n",
    "# cleaning  (done once)\n",
    "# whole_data = cleaning(fits_image, save = True, folder = 'data/processed')\n",
    "\n",
    "print('-'*50)\n",
    "for i in range(5):\n",
    "    set_galaxies = cleaning(fits_image, save = True, ngalaxies = 100, folder = f'data/sets/set_{i+1}')\n",
    "    print('-'*50)\n",
    "\n",
    "fits_image.close()"
   ]
  },
  {
   "cell_type": "markdown",
   "metadata": {},
   "source": [
    "# Tomography"
   ]
  },
  {
   "cell_type": "code",
   "execution_count": 2,
   "metadata": {},
   "outputs": [],
   "source": [
    "from src.stackz import stack_fitting, stack_predictions\n",
    "import utils.helpers as hp"
   ]
  },
  {
   "cell_type": "code",
   "execution_count": 26,
   "metadata": {},
   "outputs": [],
   "source": [
    "BANDWIDTH = 0.05"
   ]
  },
  {
   "cell_type": "markdown",
   "metadata": {},
   "source": [
    "### Fitting"
   ]
  },
  {
   "cell_type": "code",
   "execution_count": 27,
   "metadata": {},
   "outputs": [],
   "source": [
    "## Done Once (because the KDEs are then stored)\n",
    "bpz_redshifts = hp.pickle_load('data/processed', 'bpz')['Z_B']\n",
    "kdes = stack_fitting(bpz_redshifts.values, save=True, bandwidth=BANDWIDTH, ngalaxies=100000)"
   ]
  },
  {
   "cell_type": "code",
   "execution_count": 40,
   "metadata": {},
   "outputs": [
    {
     "data": {
      "image/png": "[encoded data removed]",
      "text/plain": [
       "<Figure size 864x576 with 1 Axes>"
      ]
     },
     "metadata": {
      "needs_background": "light"
     },
     "output_type": "display_data"
    }
   ],
   "source": [
    "plt.figure(figsize = (12, 8))\n",
    "plt.title('Distribution for Whole Survey', fontsize=fontSize)\n",
    "plt.hist(bpz_redshifts, density = True, bins = 20, color='c', edgecolor='b', alpha=0.25)\n",
    "plt.ylabel(r'$p(z)$', fontsize = fontSize)\n",
    "plt.xlabel(r'$z$', fontsize = fontSize)\n",
    "plt.tick_params(axis='x', labelsize=fontSize)\n",
    "plt.tick_params(axis='y', labelsize=fontSize)\n",
    "plt.xlim(0.0, 2.0)\n",
    "# plt.savefig('plots/KiDS_1000_full_survey_distribution.pdf', bbox_inches = 'tight')\n",
    "plt.show()"
   ]
  },
  {
   "cell_type": "markdown",
   "metadata": {},
   "source": [
    "### Prediction - Smooth Distribution"
   ]
  },
  {
   "cell_type": "code",
   "execution_count": 28,
   "metadata": {},
   "outputs": [],
   "source": [
    "redshift_range = np.linspace(0, 2, 1000)\n",
    "smooth_pdf = stack_predictions(redshift_range, bandwidth=BANDWIDTH, save = False, fname = None)"
   ]
  },
  {
   "cell_type": "code",
   "execution_count": 29,
   "metadata": {},
   "outputs": [
    {
     "data": {
      "image/png": "[encoded data removed]",
      "text/plain": [
       "<Figure size 864x576 with 1 Axes>"
      ]
     },
     "metadata": {
      "needs_background": "light"
     },
     "output_type": "display_data"
    }
   ],
   "source": [
    "plt.figure(figsize = (12, 8))\n",
    "plt.fill_between(redshift_range, smooth_pdf['h1'], alpha=0.5, label = r'$0.1<z\\leq 0.3$')\n",
    "plt.fill_between(redshift_range, smooth_pdf['h2'], alpha=0.5, label = r'$0.3<z\\leq 0.5$')\n",
    "plt.fill_between(redshift_range, smooth_pdf['h3'], alpha=0.5, label = r'$0.5<z\\leq 0.7$')\n",
    "plt.fill_between(redshift_range, smooth_pdf['h4'], alpha=0.5, label = r'$0.7<z\\leq 0.9$')\n",
    "plt.fill_between(redshift_range, smooth_pdf['h5'], alpha=0.5, label = r'$0.9<z\\leq 1.2$')\n",
    "plt.ylabel(r'$p(z)$', fontsize = fontSize)\n",
    "plt.xlabel(r'$z$', fontsize = fontSize)\n",
    "plt.tick_params(axis='x', labelsize=fontSize)\n",
    "plt.tick_params(axis='y', labelsize=fontSize)\n",
    "plt.ylim(0.0, 8.0)\n",
    "plt.xlim(0.0, 2.0)\n",
    "plt.legend(loc = 'best',prop={'family':'sans-serif', 'size':15})\n",
    "# plt.savefig(f'plots/stack_redshift_{BANDWIDTH}.pdf', bbox_inches = 'tight')\n",
    "plt.show()"
   ]
  },
  {
   "cell_type": "markdown",
   "metadata": {},
   "source": [
    "### Prediction - KiDS-1000 Mid-Redshifts"
   ]
  },
  {
   "cell_type": "code",
   "execution_count": 30,
   "metadata": {},
   "outputs": [],
   "source": [
    "# load the fits file\n",
    "data_tables = fits.open('data/cosmology/kids_1000.fits')\n",
    "\n",
    "# extract the n(z) distribution\n",
    "nofz = data_tables['NZ_SOURCE'].data\n",
    "\n",
    "# get the redshifts\n",
    "z_mid = np.concatenate((np.zeros(1), nofz['Z_MID']))"
   ]
  },
  {
   "cell_type": "code",
   "execution_count": 31,
   "metadata": {},
   "outputs": [],
   "source": [
    "kids_pdf = stack_predictions(z_mid, bandwidth=BANDWIDTH, save = True, fname = f'kids_1000_{BANDWIDTH}')"
   ]
  },
  {
   "cell_type": "code",
   "execution_count": 32,
   "metadata": {},
   "outputs": [
    {
     "data": {
      "image/png": "[encoded data removed]",
      "text/plain": [
       "<Figure size 864x576 with 1 Axes>"
      ]
     },
     "metadata": {
      "needs_background": "light"
     },
     "output_type": "display_data"
    }
   ],
   "source": [
    "plt.figure(figsize=(12,8))\n",
    "plt.plot(z_mid, kids_pdf['h1'], lw = 3, label = r'$0.1<z\\leq 0.3$')\n",
    "plt.plot(z_mid, kids_pdf['h2'], lw = 3, label = r'$0.3<z\\leq 0.5$')\n",
    "plt.plot(z_mid, kids_pdf['h3'], lw = 3, label = r'$0.5<z\\leq 0.7$')\n",
    "plt.plot(z_mid, kids_pdf['h4'], lw = 3, label = r'$0.7<z\\leq 0.9$')\n",
    "plt.plot(z_mid, kids_pdf['h5'], lw = 3, label = r'$0.9<z\\leq 1.2$')\n",
    "plt.ylabel(r'$p(z)$', fontsize = fontSize)\n",
    "plt.xlabel(r'$z$', fontsize = fontSize)\n",
    "plt.tick_params(axis='x', labelsize=fontSize)\n",
    "plt.tick_params(axis='y', labelsize=fontSize)\n",
    "plt.xlim(0.0, 2.0)\n",
    "plt.ylim(0.0, 8.0)\n",
    "plt.legend(loc = 'best',prop={'family':'sans-serif', 'size':15})\n",
    "# plt.savefig(f'plots/kids_1000_{BANDWIDTH}.pdf', bbox_inches = 'tight')\n",
    "plt.show()"
   ]
  },
  {
   "cell_type": "code",
   "execution_count": 33,
   "metadata": {},
   "outputs": [],
   "source": [
    "def testing(a, b, **kwargs):\n",
    "    \n",
    "    print('Value' in kwargs)\n",
    "    print(kwargs.values())\n",
    "    \n",
    "    val = kwargs.pop('value')\n",
    "    ans = a + b + val \n",
    "    return ans "
   ]
  },
  {
   "cell_type": "code",
   "execution_count": 34,
   "metadata": {},
   "outputs": [
    {
     "name": "stdout",
     "output_type": "stream",
     "text": [
      "False\n",
      "dict_values([10])\n"
     ]
    },
    {
     "data": {
      "text/plain": [
       "15"
      ]
     },
     "execution_count": 34,
     "metadata": {},
     "output_type": "execute_result"
    }
   ],
   "source": [
    "testing(2, 3, value = 10)"
   ]
  },
  {
   "cell_type": "code",
   "execution_count": null,
   "metadata": {},
   "outputs": [],
   "source": []
  }
 ],
 "metadata": {
  "kernelspec": {
   "display_name": "Python 3",
   "language": "python",
   "name": "python3"
  },
  "language_info": {
   "codemirror_mode": {
    "name": "ipython",
    "version": 3
   },
   "file_extension": ".py",
   "mimetype": "text/x-python",
   "name": "python",
   "nbconvert_exporter": "python",
   "pygments_lexer": "ipython3",
   "version": "3.7.6"
  }
 },
 "nbformat": 4,
 "nbformat_minor": 2
}
