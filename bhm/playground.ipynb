{
 "cells": [
  {
   "cell_type": "code",
   "execution_count": 3,
   "metadata": {},
   "outputs": [],
   "source": [
    "import sys \n",
    "import os \n",
    "import pickle\n",
    "import random\n",
    "import numpy as np \n",
    "from astropy.io import fits\n",
    "from astropy.coordinates import SkyCoord  \n",
    "import astropy.units as u\n",
    "import matplotlib.pylab as plt \n",
    "import pandas as pd \n",
    "\n",
    "plt.rc('text', usetex=True) # - Imperial cluster cannot find Latex\n",
    "plt.rc('font',**{'family':'sans-serif','serif':['Palatino']})\n",
    "figSize  = (12, 8)\n",
    "fontSize = 20"
   ]
  },
  {
   "cell_type": "code",
   "execution_count": null,
   "metadata": {},
   "outputs": [],
   "source": [
    "fits_image = fits.open('./data/KiDS_DR4.1_ugriZYJHKs_SOM_gold_WL_cat.fits')\n",
    "data = fits_image[1].data\n",
    "fits_image.close()"
   ]
  },
  {
   "cell_type": "markdown",
   "metadata": {},
   "source": [
    "# Notes\n",
    "Important columns identified in the catalogue.\n",
    "\n",
    "## Positions on the sky\n",
    "- ALPHA_J2000 (deg)\n",
    "- DELTA_J2000 (deg)\n",
    "\n",
    "## Ellipticities and Weights\n",
    "- e1\n",
    "- e2\n",
    "- weight\n",
    "\n",
    "## Flux\n",
    "- FLUX_GAAP_u (count)\n",
    "- FLUX_GAAP_g (count)\n",
    "- FLUX_GAAP_r (count)\n",
    "- FLUX_GAAP_i (count)\n",
    "- FLUX_GAAP_Z (count)\n",
    "- FLUX_GAAP_Y (count)\n",
    "- FLUX_GAAP_J (count)\n",
    "- FLUX_GAAP_H (count)\n",
    "- FLUX_GAAP_Ks (count)\n",
    "\n",
    "## Flux Errors\n",
    "- FLUXERR_GAAP_u (count)\n",
    "- FLUXERR_GAAP_g (count)\n",
    "- FLUXERR_GAAP_r (count)\n",
    "- FLUXERR_GAAP_i (count)\n",
    "- FLUXERR_GAAP_Z (count)\n",
    "- FLUXERR_GAAP_Y (count)\n",
    "- FLUXERR_GAAP_J (count)\n",
    "- FLUXERR_GAAP_H (count)\n",
    "- FLUXERR_GAAP_Ks (count)\n",
    "\n",
    "## Magnitude\n",
    "- MAG_GAAP_u (mag)\n",
    "- MAG_GAAP_g (mag)\n",
    "- MAG_GAAP_r (mag)\n",
    "- MAG_GAAP_i (mag)\n",
    "- MAG_GAAP_Z (mag)\n",
    "- MAG_GAAP_Y (mag)\n",
    "- MAG_GAAP_J (mag)\n",
    "- MAG_GAAP_H (mag)\n",
    "- MAG_GAAP_Ks (mag)\n",
    "\n",
    "## Magnitude Error\n",
    "- MAGERR_GAAP_u (mag)\n",
    "- MAGERR_GAAP_g (mag)\n",
    "- MAGERR_GAAP_r (mag)\n",
    "- MAGERR_GAAP_i (mag)\n",
    "- MAGERR_GAAP_Z (mag)\n",
    "- MAGERR_GAAP_Y (mag)\n",
    "- MAGERR_GAAP_J (mag)\n",
    "- MAGERR_GAAP_H (mag)\n",
    "- MAGERR_GAAP_Ks (mag)\n",
    "\n",
    "## Magnitude Limit\n",
    "- MAG_LIM_u (mag)\n",
    "- MAG_LIM_g (mag)\n",
    "- MAG_LIM_r (mag)\n",
    "- MAG_LIM_i (mag)\n",
    "- MAG_LIM_Z (mag)\n",
    "- MAG_LIM_Y (mag)\n",
    "- MAG_LIM_J (mag)\n",
    "- MAG_LIM_H (mag)\n",
    "- MAG_LIM_Ks (mag)\n",
    "\n",
    "## Flag (all of them 0)\n",
    "- FLAG_GAAP_u\n",
    "- FLAG_GAAP_g\n",
    "- FLAG_GAAP_r\n",
    "- FLAG_GAAP_i\n",
    "- FLAG_GAAP_Z\n",
    "- FLAG_GAAP_Y\n",
    "- FLAG_GAAP_J\n",
    "- FLAG_GAAP_H\n",
    "- FLAG_GAAP_Ks\n",
    "\n",
    "## BPZ\n",
    "- M_0 (reference magnitude for BPZ prior)\n",
    "- Z_B (9 band BPZ redshift estimate - peak of posterior)\n",
    "- Z_ML (9 band BPZ maximum likelihood redshift)\n",
    "- Z_B_MIN (lower bound of the 68% confidence interval of Z_B)\n",
    "- Z_B_MAX (upper bound of the 68% confidence interval of Z_B)"
   ]
  },
  {
   "cell_type": "markdown",
   "metadata": {},
   "source": [
    "# Plot Objects on the Sky\n",
    "\n",
    "We have chosen the first 500 000 objects in the catalogue. Takes a long time to plot all the samples. "
   ]
  },
  {
   "cell_type": "code",
   "execution_count": null,
   "metadata": {},
   "outputs": [],
   "source": [
    "xarr, yarr = data['ALPHA_J2000'], data['DELTA_J2000']\n",
    "nobjects = 1000000\n",
    "idx = random.sample(range(len(xarr)), nobjects)\n",
    "eq = SkyCoord(xarr[idx], yarr[idx], unit=u.deg)\n",
    "gal = eq.galactic\n",
    "colors = np.random.random((nobjects, 3))"
   ]
  },
  {
   "cell_type": "code",
   "execution_count": null,
   "metadata": {},
   "outputs": [],
   "source": [
    "plt.figure(figsize = (12, 8))\n",
    "plt.subplot(111, projection='aitoff')\n",
    "plt.grid(True)\n",
    "plt.scatter(gal.l.wrap_at('180d').radian, gal.b.radian, s=10, c=colors, alpha=0.6, edgecolors=colors, rasterized=True)\n",
    "plt.xticks(fontsize=20)\n",
    "plt.yticks(fontsize=20)\n",
    "# plt.savefig('plots/skymap.pdf', bbox_inches = 'tight')\n",
    "plt.show()"
   ]
  },
  {
   "cell_type": "markdown",
   "metadata": {},
   "source": [
    "# Choosing Specific Columns"
   ]
  },
  {
   "cell_type": "code",
   "execution_count": null,
   "metadata": {},
   "outputs": [],
   "source": [
    "band = ['u', 'g', 'r', 'i', 'Z', 'Y', 'J', 'H', 'Ks']\n",
    "flux_names = [f'FLUX_GAAP_{b}' for b in band]\n",
    "flux_names_err = [f'FLUXERR_GAAP_{b}' for b in band]\n",
    "mag_names = [f'MAG_GAAP_{b}' for b in band]\n",
    "mag_names_err =  [f'MAGERR_GAAP_{b}' for b in band]\n",
    "bpz_names = ['Z_B', 'M_0', 'Z_ML', 'Z_B_MIN', 'Z_B_MAX']\n",
    "meta_names = ['ALPHA_J2000', 'DELTA_J2000', 'e1', 'e2', 'weight']\n",
    "\n",
    "nbpz = len(bpz_names)\n",
    "nmeta = len(meta_names)\n",
    "nband = len(band)"
   ]
  },
  {
   "cell_type": "code",
   "execution_count": null,
   "metadata": {},
   "outputs": [],
   "source": [
    "fluxes = np.asarray([data[flux_names[i]] for i in range(nband)]).T\n",
    "fluxes_err = np.asarray([data[flux_names_err[i]] for i in range(nband)]).T\n",
    "mag = np.asarray([data[mag_names[i]] for i in range(nband)]).T\n",
    "mag_err = np.asarray([data[mag_names_err[i]] for i in range(nband)]).T\n",
    "bpz = np.asarray([data[mag_names_err[i]] for i in range(nbpz)]).T\n",
    "meta = np.asarray([data[meta_names[i]] for i in range(nmeta)]).T"
   ]
  },
  {
   "cell_type": "code",
   "execution_count": null,
   "metadata": {},
   "outputs": [],
   "source": [
    "df_flux = pd.DataFrame(fluxes, columns = flux_names, dtype=np.float32)\n",
    "df_flux_err = pd.DataFrame(fluxes_err, columns = flux_names_err, dtype=np.float32)\n",
    "df_mag = pd.DataFrame(mag, columns = mag_names, dtype=np.float16)\n",
    "df_mag_err = pd.DataFrame(mag_err, columns = mag_names_err, dtype=np.float16)\n",
    "df_bpz = pd.DataFrame(bpz, columns = bpz_names, dtype=np.float16)\n",
    "df_meta = pd.DataFrame(meta, columns = meta_names, dtype=np.float16)"
   ]
  },
  {
   "cell_type": "markdown",
   "metadata": {},
   "source": [
    "## Idea about the size of the dataframes"
   ]
  },
  {
   "cell_type": "code",
   "execution_count": null,
   "metadata": {},
   "outputs": [],
   "source": [
    "def get_size_mb(dataframe: pd.DataFrame) -> float:\n",
    "    print(f'Size of dataframe in MB is {sys.getsizeof(dataframe)/1024**2:.2f}')    "
   ]
  },
  {
   "cell_type": "code",
   "execution_count": null,
   "metadata": {},
   "outputs": [],
   "source": [
    "get_size_mb(df_flux)"
   ]
  },
  {
   "cell_type": "code",
   "execution_count": null,
   "metadata": {},
   "outputs": [],
   "source": [
    "get_size_mb(df_flux_err)"
   ]
  },
  {
   "cell_type": "code",
   "execution_count": null,
   "metadata": {},
   "outputs": [],
   "source": [
    "get_size_mb(df_mag)"
   ]
  },
  {
   "cell_type": "code",
   "execution_count": null,
   "metadata": {},
   "outputs": [],
   "source": [
    "get_size_mb(df_mag_err)"
   ]
  },
  {
   "cell_type": "code",
   "execution_count": null,
   "metadata": {},
   "outputs": [],
   "source": [
    "get_size_mb(df_bpz)"
   ]
  },
  {
   "cell_type": "code",
   "execution_count": null,
   "metadata": {},
   "outputs": [],
   "source": [
    "get_size_mb(df_meta)"
   ]
  },
  {
   "cell_type": "markdown",
   "metadata": {},
   "source": [
    "## Example of the tabular format"
   ]
  },
  {
   "cell_type": "code",
   "execution_count": null,
   "metadata": {},
   "outputs": [],
   "source": [
    "df_flux.head()"
   ]
  },
  {
   "cell_type": "code",
   "execution_count": null,
   "metadata": {},
   "outputs": [],
   "source": [
    "df_flux_err.head()"
   ]
  },
  {
   "cell_type": "code",
   "execution_count": null,
   "metadata": {},
   "outputs": [],
   "source": [
    "df_mag.head()"
   ]
  },
  {
   "cell_type": "code",
   "execution_count": null,
   "metadata": {},
   "outputs": [],
   "source": [
    "df_mag_err.head()"
   ]
  },
  {
   "cell_type": "code",
   "execution_count": null,
   "metadata": {},
   "outputs": [],
   "source": [
    "df_bpz.head()"
   ]
  },
  {
   "cell_type": "code",
   "execution_count": null,
   "metadata": {},
   "outputs": [],
   "source": [
    "df_meta.head()"
   ]
  },
  {
   "cell_type": "markdown",
   "metadata": {},
   "source": [
    "## Save the files"
   ]
  },
  {
   "cell_type": "code",
   "execution_count": null,
   "metadata": {},
   "outputs": [],
   "source": [
    "def pickle_save(file: list, folder_name: str, file_name: str) -> None:\n",
    "    \"\"\"Stores a list in a folder.\n",
    "    Args:\n",
    "        list_to_store (list): The list to store.\n",
    "        folder_name (str): The name of the folder.\n",
    "        file_name (str): The name of the file.\n",
    "    \"\"\"\n",
    "\n",
    "    # create the folder if it does not exist\n",
    "    os.makedirs(folder_name, exist_ok=True)\n",
    "\n",
    "    # use compressed format to store data\n",
    "    with open(folder_name + \"/\" + file_name + \".pkl\", \"wb\") as f:\n",
    "        pickle.dump(file, f)\n",
    "\n",
    "\n",
    "def pickle_load(folder_name: str, file_name: str) -> pd.DataFrame:\n",
    "    \"\"\"Reads a list from a folder.\n",
    "    Args:\n",
    "        folder_name (str): The name of the folder.\n",
    "        file_name (str): The name of the file.\n",
    "    Returns:\n",
    "        pd.DataFrame: a pandas dataframe\n",
    "    \"\"\"\n",
    "\n",
    "    with open(folder_name + \"/\" + file_name + \".pkl\", \"rb\") as f:\n",
    "         file = pickle.load(f)\n",
    "\n",
    "    return file"
   ]
  },
  {
   "cell_type": "code",
   "execution_count": null,
   "metadata": {},
   "outputs": [],
   "source": [
    "# pickle_save(df_flux, 'data/processed', 'flux')\n",
    "# pickle_save(df_flux_err, 'data/processed', 'flux_err')\n",
    "# pickle_save(df_mag, 'data/processed', 'mag')\n",
    "# pickle_save(df_mag_err, 'data/processed', 'mag_err')\n",
    "# pickle_save(df_meta, 'data/processed', 'meta')\n",
    "# pickle_save(df_bpz, 'data/processed', 'bpz')"
   ]
  },
  {
   "cell_type": "code",
   "execution_count": 1,
   "metadata": {},
   "outputs": [],
   "source": [
    "from src.processing import cleaning "
   ]
  },
  {
   "cell_type": "code",
   "execution_count": null,
   "metadata": {},
   "outputs": [],
   "source": [
    "fits_image = fits.open('./data/KiDS_DR4.1_ugriZYJHKs_SOM_gold_WL_cat.fits')\n",
    "\n",
    "dictionary = cleaning(fits_image, save = False)\n",
    "\n",
    "fits_image.close()"
   ]
  }
 ],
 "metadata": {
  "kernelspec": {
   "display_name": "Python 3",
   "language": "python",
   "name": "python3"
  },
  "language_info": {
   "codemirror_mode": {
    "name": "ipython",
    "version": 3
   },
   "file_extension": ".py",
   "mimetype": "text/x-python",
   "name": "python",
   "nbconvert_exporter": "python",
   "pygments_lexer": "ipython3",
   "version": "3.6.5"
  }
 },
 "nbformat": 4,
 "nbformat_minor": 2
}
