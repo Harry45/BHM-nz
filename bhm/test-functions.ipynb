{
 "cells": [
  {
   "cell_type": "code",
   "execution_count": 1,
   "id": "753783ed",
   "metadata": {},
   "outputs": [],
   "source": [
    "import os \n",
    "from ml_collections.config_dict import ConfigDict\n",
    "import pandas as pd\n",
    "import numpy as np\n",
    "from astropy.io import fits\n",
    "import matplotlib.pylab as plt \n",
    "\n",
    "# our scripts and functions\n",
    "import utils.helpers as hp\n",
    "from configuration import get_config\n",
    "\n",
    "plt.rc('text', usetex=True)\n",
    "plt.rc('font',**{'family':'sans-serif','serif':['Palatino']})\n",
    "figSize  = (12, 8)\n",
    "fontSize = 20"
   ]
  },
  {
   "cell_type": "code",
   "execution_count": 2,
   "id": "c7dba285",
   "metadata": {},
   "outputs": [],
   "source": [
    "def extract_data(config: ConfigDict) -> dict:\n",
    "    \"\"\"\n",
    "    Extract the data from the fits file. We also keep only the data points for which the\n",
    "    magnitude values are below the magnitude limits.\n",
    "\n",
    "    Args:\n",
    "        config (ConfigDict): the main configuration file\n",
    "\n",
    "    Returns:\n",
    "        dict: a dictionary containing all the important quantities\n",
    "    \"\"\"\n",
    "    fits_image = fits.open(config.paths.fitsfile)\n",
    "    data = fits_image[1].data\n",
    "    fits_image.close()\n",
    "\n",
    "    quantities = dict(config.colnames)\n",
    "    record = {}\n",
    "\n",
    "    # extract all the data points\n",
    "    for qname in quantities:\n",
    "        columns = quantities[qname]\n",
    "        data_extracted = np.asarray([data[columns[i]] for i in range(len(columns))]).T\n",
    "        record[qname] = pd.DataFrame(\n",
    "            data_extracted, columns=columns, dtype=config.dtypes[qname]\n",
    "        )\n",
    "\n",
    "    # choose rows for which the magnitudes are within the magnitude limit\n",
    "    condition = np.sum((record[\"mag\"].values < record[\"maglim\"].values) * 1, axis=1)\n",
    "    condition = (condition == 9) * 1\n",
    "\n",
    "    # apply the cuts\n",
    "    for qname in quantities:\n",
    "        record[qname] = record[qname][condition == 1].reset_index(drop=True)\n",
    "    return record"
   ]
  },
  {
   "cell_type": "code",
   "execution_count": 3,
   "id": "9ff5235d",
   "metadata": {},
   "outputs": [],
   "source": [
    "def assign_binlabel(config: ConfigDict, dataframe: pd.DataFrame) -> pd.DataFrame:\n",
    "    \"\"\"\n",
    "    Given the BPZ values, we just assign each object in a tomographic redshift bin.\n",
    "\n",
    "    Args:\n",
    "        config (ConfigDict): the main configuration file with all the settings.\n",
    "        dataframe (pd.DataFrame): a dataframe which consists of the BPZ redshifts (Z_B)\n",
    "\n",
    "    Returns:\n",
    "        pd.DataFrame: the bin labels for each object\n",
    "    \"\"\"\n",
    "    nobjects = dataframe.shape[0]\n",
    "    dfindex = list(dataframe.index)\n",
    "    nbins = len(config.redshift.bounds)\n",
    "    binlabels = [f\"BIN_{i}\" for i in range(nbins)]\n",
    "\n",
    "    # record the bin label\n",
    "    recordbin = []\n",
    "\n",
    "    # this is the index of the object found in the catalogue\n",
    "    recordindex = []\n",
    "\n",
    "    for i in range(nobjects):\n",
    "        for index in range(nbins):\n",
    "            bound_1 = config.redshift.bounds[index][0]\n",
    "            bound_2 = config.redshift.bounds[index][1]\n",
    "\n",
    "            # some edge effect (the maximum redshift in the catalogue is 1.200195, not 1.2)\n",
    "            if index == nbins - 1:\n",
    "                bound_2 += 0.01\n",
    "            condition_1 = dataframe[\"Z_B\"].values[i] > bound_1\n",
    "            condition_2 = dataframe[\"Z_B\"].values[i] <= bound_2\n",
    "            if condition_1 and condition_2:\n",
    "                recordbin.append(binlabels[index])\n",
    "                recordindex.append(dfindex[i])\n",
    "\n",
    "    df_binlabel = pd.DataFrame(recordbin, columns=[\"BINLABEL\"], index=recordindex)\n",
    "    return df_binlabel"
   ]
  },
  {
   "cell_type": "code",
   "execution_count": 4,
   "id": "c9debfdf",
   "metadata": {},
   "outputs": [],
   "source": [
    "def correct_data(config: ConfigDict, data: dict) -> dict:\n",
    "    \"\"\"\n",
    "    Correct the data by shifting the fluxes according to the median of each patch/tile.\n",
    "\n",
    "    Args:\n",
    "        config (ConfigDict): the main configuration file\n",
    "\n",
    "        data (dict): the processed data with keys:\n",
    "         - 'extinction',\n",
    "         - 'flux',\n",
    "         - 'fluxerr',\n",
    "         - 'mag',\n",
    "         - 'magerr',\n",
    "         - 'maglim',\n",
    "         - 'redshift',\n",
    "         - 'theliname'\n",
    "\n",
    "         See the main configuration file. They are already defined there.\n",
    "\n",
    "    Returns:\n",
    "        dict: a dictionary containing the same keys and corresponding values but the with the correct data.\n",
    "    \"\"\"\n",
    "    unique_names = np.unique(data[\"theliname\"])\n",
    "    nunique = len(unique_names)\n",
    "    print(f\"Number of tiles is: {nunique}\")\n",
    "\n",
    "    assert (\n",
    "        config.ntiles < nunique\n",
    "    ), \"The number of tiles is greater than the number of available tiles.\"\n",
    "    tiles = {}\n",
    "    for i in range(config.ntiles):\n",
    "        record_tile = {}\n",
    "\n",
    "        # find the objects within a particular tile\n",
    "        tile = data[\"theliname\"] == unique_names[i]\n",
    "        tile = tile.values\n",
    "\n",
    "        # calculate the correction term\n",
    "        scaled_magnitude = data[\"mag\"][tile] + 2.5 * np.log10(data[\"flux\"][tile].values)\n",
    "        correction = 10 ** (0.4 * data[\"extinction\"][tile]) * 10 ** (\n",
    "            -0.4 * np.median(scaled_magnitude.values, axis=0)\n",
    "        )\n",
    "\n",
    "        # correct for magnitude, flux and flux error\n",
    "        record_tile[\"mag\"] = data[\"mag\"][tile] - data[\"extinction\"][tile].values\n",
    "        record_tile[\"flux\"] = data[\"flux\"][tile] * correction.values\n",
    "        record_tile[\"fluxerr\"] = data[\"fluxerr\"][tile] * correction.values\n",
    "\n",
    "        # record other important quantities\n",
    "        record_tile[\"magerr\"] = data[\"magerr\"][tile]\n",
    "        record_tile[\"redshift\"] = data[\"redshift\"][tile]\n",
    "        record_tile[\"theliname\"] = data[\"theliname\"][tile]\n",
    "        record_tile[\"maglim\"] = data[\"maglim\"][tile]\n",
    "        record_tile[\"extinction\"] = data[\"extinction\"][tile]\n",
    "\n",
    "        # assign bin labels\n",
    "        record_tile[\"binlabel\"] = assign_binlabel(config, record_tile[\"redshift\"])\n",
    "\n",
    "        # record that specific tile\n",
    "        tiles[unique_names[i]] = record_tile\n",
    "\n",
    "        # save the tiles\n",
    "        hp.pickle_save(record_tile, config.paths.tiles, unique_names[i])\n",
    "\n",
    "        print(f\"Number of objects in tile {unique_names[i]} is : {sum(tile*1)}\")\n",
    "    return tiles"
   ]
  },
  {
   "cell_type": "code",
   "execution_count": 5,
   "id": "b1039ecb",
   "metadata": {},
   "outputs": [
    {
     "name": "stdout",
     "output_type": "stream",
     "text": [
      "Number of tiles is: 988\n",
      "Number of objects in tile KIDS_0p0_m28p2 is : [17337]\n",
      "Number of objects in tile KIDS_0p0_m29p2 is : [14137]\n",
      "Number of objects in tile KIDS_0p0_m30p2 is : [15246]\n",
      "Number of objects in tile KIDS_0p0_m31p2 is : [15334]\n",
      "Number of objects in tile KIDS_0p0_m32p1 is : [19782]\n",
      "Number of objects in tile KIDS_0p0_m33p1 is : [18011]\n",
      "Number of objects in tile KIDS_0p0_m34p1 is : [16449]\n",
      "Number of objects in tile KIDS_0p0_m35p1 is : [16122]\n",
      "Number of objects in tile KIDS_10p3_m29p2 is : [18898]\n",
      "Number of objects in tile KIDS_10p5_m31p2 is : [16731]\n"
     ]
    }
   ],
   "source": [
    "config = get_config('KiDS-1000')\n",
    "\n",
    "# this should be done once (to edit this part)\n",
    "# then the tiles can be loaded\n",
    "record = extract_data(config)\n",
    "tiles = correct_data(config, record)"
   ]
  },
  {
   "cell_type": "markdown",
   "id": "b32b63db",
   "metadata": {},
   "source": [
    "# Extracted Data"
   ]
  },
  {
   "cell_type": "code",
   "execution_count": 6,
   "id": "80ef514d",
   "metadata": {},
   "outputs": [
    {
     "data": {
      "text/plain": [
       "dict_keys(['extinction', 'flux', 'fluxerr', 'mag', 'magerr', 'maglim', 'redshift', 'theliname'])"
      ]
     },
     "execution_count": 6,
     "metadata": {},
     "output_type": "execute_result"
    }
   ],
   "source": [
    "record.keys()"
   ]
  },
  {
   "cell_type": "code",
   "execution_count": 7,
   "id": "dfbfcc57",
   "metadata": {},
   "outputs": [
    {
     "data": {
      "text/html": [
       "<div>\n",
       "<style scoped>\n",
       "    .dataframe tbody tr th:only-of-type {\n",
       "        vertical-align: middle;\n",
       "    }\n",
       "\n",
       "    .dataframe tbody tr th {\n",
       "        vertical-align: top;\n",
       "    }\n",
       "\n",
       "    .dataframe thead th {\n",
       "        text-align: right;\n",
       "    }\n",
       "</style>\n",
       "<table border=\"1\" class=\"dataframe\">\n",
       "  <thead>\n",
       "    <tr style=\"text-align: right;\">\n",
       "      <th></th>\n",
       "      <th>MAG_GAAP_u</th>\n",
       "      <th>MAG_GAAP_g</th>\n",
       "      <th>MAG_GAAP_r</th>\n",
       "      <th>MAG_GAAP_i</th>\n",
       "      <th>MAG_GAAP_Z</th>\n",
       "      <th>MAG_GAAP_Y</th>\n",
       "      <th>MAG_GAAP_J</th>\n",
       "      <th>MAG_GAAP_H</th>\n",
       "      <th>MAG_GAAP_Ks</th>\n",
       "    </tr>\n",
       "  </thead>\n",
       "  <tbody>\n",
       "    <tr>\n",
       "      <th>0</th>\n",
       "      <td>24.406250</td>\n",
       "      <td>23.500000</td>\n",
       "      <td>22.937500</td>\n",
       "      <td>22.625000</td>\n",
       "      <td>21.750000</td>\n",
       "      <td>21.984375</td>\n",
       "      <td>21.703125</td>\n",
       "      <td>21.656250</td>\n",
       "      <td>20.703125</td>\n",
       "    </tr>\n",
       "    <tr>\n",
       "      <th>1</th>\n",
       "      <td>24.812500</td>\n",
       "      <td>24.031250</td>\n",
       "      <td>23.062500</td>\n",
       "      <td>22.265625</td>\n",
       "      <td>21.640625</td>\n",
       "      <td>21.453125</td>\n",
       "      <td>20.968750</td>\n",
       "      <td>20.500000</td>\n",
       "      <td>20.093750</td>\n",
       "    </tr>\n",
       "    <tr>\n",
       "      <th>2</th>\n",
       "      <td>23.406250</td>\n",
       "      <td>23.796875</td>\n",
       "      <td>23.500000</td>\n",
       "      <td>23.015625</td>\n",
       "      <td>22.312500</td>\n",
       "      <td>22.062500</td>\n",
       "      <td>21.781250</td>\n",
       "      <td>21.484375</td>\n",
       "      <td>21.703125</td>\n",
       "    </tr>\n",
       "    <tr>\n",
       "      <th>3</th>\n",
       "      <td>25.203125</td>\n",
       "      <td>25.968750</td>\n",
       "      <td>24.000000</td>\n",
       "      <td>22.843750</td>\n",
       "      <td>21.921875</td>\n",
       "      <td>21.484375</td>\n",
       "      <td>21.156250</td>\n",
       "      <td>20.796875</td>\n",
       "      <td>20.468750</td>\n",
       "    </tr>\n",
       "    <tr>\n",
       "      <th>4</th>\n",
       "      <td>22.078125</td>\n",
       "      <td>21.312500</td>\n",
       "      <td>20.609375</td>\n",
       "      <td>20.375000</td>\n",
       "      <td>20.015625</td>\n",
       "      <td>20.015625</td>\n",
       "      <td>19.703125</td>\n",
       "      <td>19.515625</td>\n",
       "      <td>19.312500</td>\n",
       "    </tr>\n",
       "  </tbody>\n",
       "</table>\n",
       "</div>"
      ],
      "text/plain": [
       "   MAG_GAAP_u  MAG_GAAP_g  MAG_GAAP_r  MAG_GAAP_i  MAG_GAAP_Z  MAG_GAAP_Y  \\\n",
       "0   24.406250   23.500000   22.937500   22.625000   21.750000   21.984375   \n",
       "1   24.812500   24.031250   23.062500   22.265625   21.640625   21.453125   \n",
       "2   23.406250   23.796875   23.500000   23.015625   22.312500   22.062500   \n",
       "3   25.203125   25.968750   24.000000   22.843750   21.921875   21.484375   \n",
       "4   22.078125   21.312500   20.609375   20.375000   20.015625   20.015625   \n",
       "\n",
       "   MAG_GAAP_J  MAG_GAAP_H  MAG_GAAP_Ks  \n",
       "0   21.703125   21.656250    20.703125  \n",
       "1   20.968750   20.500000    20.093750  \n",
       "2   21.781250   21.484375    21.703125  \n",
       "3   21.156250   20.796875    20.468750  \n",
       "4   19.703125   19.515625    19.312500  "
      ]
     },
     "execution_count": 7,
     "metadata": {},
     "output_type": "execute_result"
    }
   ],
   "source": [
    "record['mag'].head()"
   ]
  },
  {
   "cell_type": "markdown",
   "id": "3c824f56",
   "metadata": {},
   "source": [
    "# Clean Data"
   ]
  },
  {
   "cell_type": "code",
   "execution_count": 8,
   "id": "fa10d824",
   "metadata": {},
   "outputs": [
    {
     "data": {
      "text/plain": [
       "dict_keys(['KIDS_0p0_m28p2', 'KIDS_0p0_m29p2', 'KIDS_0p0_m30p2', 'KIDS_0p0_m31p2', 'KIDS_0p0_m32p1', 'KIDS_0p0_m33p1', 'KIDS_0p0_m34p1', 'KIDS_0p0_m35p1', 'KIDS_10p3_m29p2', 'KIDS_10p5_m31p2'])"
      ]
     },
     "execution_count": 8,
     "metadata": {},
     "output_type": "execute_result"
    }
   ],
   "source": [
    "tiles.keys()"
   ]
  },
  {
   "cell_type": "code",
   "execution_count": 9,
   "id": "f7151d69",
   "metadata": {},
   "outputs": [
    {
     "data": {
      "text/plain": [
       "dict_keys(['mag', 'flux', 'fluxerr', 'magerr', 'redshift', 'theliname', 'maglim', 'extinction', 'binlabel'])"
      ]
     },
     "execution_count": 9,
     "metadata": {},
     "output_type": "execute_result"
    }
   ],
   "source": [
    "tiles['KIDS_0p0_m28p2'].keys()"
   ]
  },
  {
   "cell_type": "code",
   "execution_count": 10,
   "id": "82a4dcc6",
   "metadata": {},
   "outputs": [
    {
     "data": {
      "text/html": [
       "<div>\n",
       "<style scoped>\n",
       "    .dataframe tbody tr th:only-of-type {\n",
       "        vertical-align: middle;\n",
       "    }\n",
       "\n",
       "    .dataframe tbody tr th {\n",
       "        vertical-align: top;\n",
       "    }\n",
       "\n",
       "    .dataframe thead th {\n",
       "        text-align: right;\n",
       "    }\n",
       "</style>\n",
       "<table border=\"1\" class=\"dataframe\">\n",
       "  <thead>\n",
       "    <tr style=\"text-align: right;\">\n",
       "      <th></th>\n",
       "      <th>MAG_GAAP_u</th>\n",
       "      <th>MAG_GAAP_g</th>\n",
       "      <th>MAG_GAAP_r</th>\n",
       "      <th>MAG_GAAP_i</th>\n",
       "      <th>MAG_GAAP_Z</th>\n",
       "      <th>MAG_GAAP_Y</th>\n",
       "      <th>MAG_GAAP_J</th>\n",
       "      <th>MAG_GAAP_H</th>\n",
       "      <th>MAG_GAAP_Ks</th>\n",
       "    </tr>\n",
       "  </thead>\n",
       "  <tbody>\n",
       "    <tr>\n",
       "      <th>8123868</th>\n",
       "      <td>24.093750</td>\n",
       "      <td>24.171875</td>\n",
       "      <td>22.656250</td>\n",
       "      <td>21.531250</td>\n",
       "      <td>20.812500</td>\n",
       "      <td>20.406250</td>\n",
       "      <td>20.015625</td>\n",
       "      <td>19.578125</td>\n",
       "      <td>19.171875</td>\n",
       "    </tr>\n",
       "    <tr>\n",
       "      <th>8123869</th>\n",
       "      <td>23.796875</td>\n",
       "      <td>23.609375</td>\n",
       "      <td>23.046875</td>\n",
       "      <td>22.765625</td>\n",
       "      <td>22.265625</td>\n",
       "      <td>22.140625</td>\n",
       "      <td>21.921875</td>\n",
       "      <td>22.046875</td>\n",
       "      <td>21.562500</td>\n",
       "    </tr>\n",
       "    <tr>\n",
       "      <th>8974042</th>\n",
       "      <td>24.000000</td>\n",
       "      <td>24.718750</td>\n",
       "      <td>24.125000</td>\n",
       "      <td>22.984375</td>\n",
       "      <td>23.765625</td>\n",
       "      <td>22.828125</td>\n",
       "      <td>23.421875</td>\n",
       "      <td>23.296875</td>\n",
       "      <td>23.093750</td>\n",
       "    </tr>\n",
       "    <tr>\n",
       "      <th>8974043</th>\n",
       "      <td>22.937500</td>\n",
       "      <td>22.671875</td>\n",
       "      <td>22.125000</td>\n",
       "      <td>21.687500</td>\n",
       "      <td>21.734375</td>\n",
       "      <td>21.671875</td>\n",
       "      <td>21.562500</td>\n",
       "      <td>21.656250</td>\n",
       "      <td>21.031250</td>\n",
       "    </tr>\n",
       "    <tr>\n",
       "      <th>8974044</th>\n",
       "      <td>23.859375</td>\n",
       "      <td>24.187500</td>\n",
       "      <td>23.750000</td>\n",
       "      <td>23.234375</td>\n",
       "      <td>22.625000</td>\n",
       "      <td>22.546875</td>\n",
       "      <td>22.281250</td>\n",
       "      <td>22.406250</td>\n",
       "      <td>22.265625</td>\n",
       "    </tr>\n",
       "  </tbody>\n",
       "</table>\n",
       "</div>"
      ],
      "text/plain": [
       "         MAG_GAAP_u  MAG_GAAP_g  MAG_GAAP_r  MAG_GAAP_i  MAG_GAAP_Z  \\\n",
       "8123868   24.093750   24.171875   22.656250   21.531250   20.812500   \n",
       "8123869   23.796875   23.609375   23.046875   22.765625   22.265625   \n",
       "8974042   24.000000   24.718750   24.125000   22.984375   23.765625   \n",
       "8974043   22.937500   22.671875   22.125000   21.687500   21.734375   \n",
       "8974044   23.859375   24.187500   23.750000   23.234375   22.625000   \n",
       "\n",
       "         MAG_GAAP_Y  MAG_GAAP_J  MAG_GAAP_H  MAG_GAAP_Ks  \n",
       "8123868   20.406250   20.015625   19.578125    19.171875  \n",
       "8123869   22.140625   21.921875   22.046875    21.562500  \n",
       "8974042   22.828125   23.421875   23.296875    23.093750  \n",
       "8974043   21.671875   21.562500   21.656250    21.031250  \n",
       "8974044   22.546875   22.281250   22.406250    22.265625  "
      ]
     },
     "execution_count": 10,
     "metadata": {},
     "output_type": "execute_result"
    }
   ],
   "source": [
    "tiles['KIDS_0p0_m28p2']['mag'].head()"
   ]
  },
  {
   "cell_type": "code",
   "execution_count": 11,
   "id": "8a4453cf",
   "metadata": {},
   "outputs": [
    {
     "data": {
      "text/html": [
       "<div>\n",
       "<style scoped>\n",
       "    .dataframe tbody tr th:only-of-type {\n",
       "        vertical-align: middle;\n",
       "    }\n",
       "\n",
       "    .dataframe tbody tr th {\n",
       "        vertical-align: top;\n",
       "    }\n",
       "\n",
       "    .dataframe thead th {\n",
       "        text-align: right;\n",
       "    }\n",
       "</style>\n",
       "<table border=\"1\" class=\"dataframe\">\n",
       "  <thead>\n",
       "    <tr style=\"text-align: right;\">\n",
       "      <th></th>\n",
       "      <th>BINLABEL</th>\n",
       "    </tr>\n",
       "  </thead>\n",
       "  <tbody>\n",
       "    <tr>\n",
       "      <th>6826357</th>\n",
       "      <td>BIN_2</td>\n",
       "    </tr>\n",
       "    <tr>\n",
       "      <th>6826358</th>\n",
       "      <td>BIN_0</td>\n",
       "    </tr>\n",
       "    <tr>\n",
       "      <th>6826359</th>\n",
       "      <td>BIN_4</td>\n",
       "    </tr>\n",
       "    <tr>\n",
       "      <th>6826360</th>\n",
       "      <td>BIN_3</td>\n",
       "    </tr>\n",
       "    <tr>\n",
       "      <th>6826361</th>\n",
       "      <td>BIN_3</td>\n",
       "    </tr>\n",
       "  </tbody>\n",
       "</table>\n",
       "</div>"
      ],
      "text/plain": [
       "        BINLABEL\n",
       "6826357    BIN_2\n",
       "6826358    BIN_0\n",
       "6826359    BIN_4\n",
       "6826360    BIN_3\n",
       "6826361    BIN_3"
      ]
     },
     "execution_count": 11,
     "metadata": {},
     "output_type": "execute_result"
    }
   ],
   "source": [
    "tiles['KIDS_0p0_m30p2']['binlabel'].head()"
   ]
  },
  {
   "cell_type": "code",
   "execution_count": 12,
   "id": "3833331a",
   "metadata": {},
   "outputs": [
    {
     "data": {
      "text/html": [
       "<div>\n",
       "<style scoped>\n",
       "    .dataframe tbody tr th:only-of-type {\n",
       "        vertical-align: middle;\n",
       "    }\n",
       "\n",
       "    .dataframe tbody tr th {\n",
       "        vertical-align: top;\n",
       "    }\n",
       "\n",
       "    .dataframe thead th {\n",
       "        text-align: right;\n",
       "    }\n",
       "</style>\n",
       "<table border=\"1\" class=\"dataframe\">\n",
       "  <thead>\n",
       "    <tr style=\"text-align: right;\">\n",
       "      <th></th>\n",
       "      <th>Z_B</th>\n",
       "      <th>Z_ML</th>\n",
       "    </tr>\n",
       "  </thead>\n",
       "  <tbody>\n",
       "    <tr>\n",
       "      <th>6826357</th>\n",
       "      <td>0.629883</td>\n",
       "      <td>0.640137</td>\n",
       "    </tr>\n",
       "    <tr>\n",
       "      <th>6826358</th>\n",
       "      <td>0.219971</td>\n",
       "      <td>0.010002</td>\n",
       "    </tr>\n",
       "    <tr>\n",
       "      <th>6826359</th>\n",
       "      <td>0.979980</td>\n",
       "      <td>1.059570</td>\n",
       "    </tr>\n",
       "    <tr>\n",
       "      <th>6826360</th>\n",
       "      <td>0.750000</td>\n",
       "      <td>0.750000</td>\n",
       "    </tr>\n",
       "    <tr>\n",
       "      <th>6826361</th>\n",
       "      <td>0.700195</td>\n",
       "      <td>0.700195</td>\n",
       "    </tr>\n",
       "  </tbody>\n",
       "</table>\n",
       "</div>"
      ],
      "text/plain": [
       "              Z_B      Z_ML\n",
       "6826357  0.629883  0.640137\n",
       "6826358  0.219971  0.010002\n",
       "6826359  0.979980  1.059570\n",
       "6826360  0.750000  0.750000\n",
       "6826361  0.700195  0.700195"
      ]
     },
     "execution_count": 12,
     "metadata": {},
     "output_type": "execute_result"
    }
   ],
   "source": [
    "tiles['KIDS_0p0_m30p2']['redshift'].head()"
   ]
  },
  {
   "cell_type": "markdown",
   "id": "10c5b628",
   "metadata": {},
   "source": [
    "# Tiles to Bins\n",
    "\n",
    "Now that we have the data for the different tiles, we have to aggregate by bin label."
   ]
  },
  {
   "cell_type": "code",
   "execution_count": 13,
   "id": "002763c9",
   "metadata": {},
   "outputs": [],
   "source": [
    "def aggregate_data(config: ConfigDict, tiles: dict) -> dict:\n",
    "    \"\"\"\n",
    "    All the data from the different tiles are aggregated in a single dictionary with the keywords:\n",
    "    redshift, binlabel, flux, fluxerr, mag, magerr\n",
    "\n",
    "    Args:\n",
    "        config (ConfigDict): the main configuration file with all the settings.\n",
    "        tiles (dict): a dictionary with the data for the different tiles. This is generated from the\n",
    "        function correct_data.\n",
    "\n",
    "    Returns:\n",
    "        dict: a dictionary with the different quantities and an example of how to access the quantity is:\n",
    "\n",
    "              record['BIN_0]['redshift'].head()\n",
    "    \"\"\"\n",
    "\n",
    "    nbins = len(config.redshift.bounds)\n",
    "    binlabels = [f\"BIN_{i}\" for i in range(nbins)]\n",
    "\n",
    "    # sb means specific bin\n",
    "    sb_redshift = {binlabels[i]: [] for i in range(nbins)}\n",
    "    sb_binlabel = {binlabels[i]: [] for i in range(nbins)}\n",
    "    sb_flux = {binlabels[i]: [] for i in range(nbins)}\n",
    "    sb_fluxerr = {binlabels[i]: [] for i in range(nbins)}\n",
    "    sb_mag = {binlabels[i]: [] for i in range(nbins)}\n",
    "    sb_magerr = {binlabels[i]: [] for i in range(nbins)}\n",
    "\n",
    "    for tile in tiles:\n",
    "        for binlabel in binlabels:\n",
    "            condition = tiles[tile][\"binlabel\"] == binlabel\n",
    "            condition = condition.values\n",
    "\n",
    "            # record all the quantities we need\n",
    "            sb_redshift[binlabel].append(tiles[tile][\"redshift\"][condition])\n",
    "            sb_binlabel[binlabel].append(tiles[tile][\"binlabel\"][condition])\n",
    "            sb_flux[binlabel].append(tiles[tile][\"flux\"][condition])\n",
    "            sb_fluxerr[binlabel].append(tiles[tile][\"fluxerr\"][condition])\n",
    "            sb_mag[binlabel].append(tiles[tile][\"mag\"][condition])\n",
    "            sb_magerr[binlabel].append(tiles[tile][\"magerr\"][condition])\n",
    "    record = {}\n",
    "    record[\"redshift\"] = sb_redshift\n",
    "    record[\"binlabel\"] = sb_binlabel\n",
    "    record[\"flux\"] = sb_flux\n",
    "    record[\"fluxerr\"] = sb_fluxerr\n",
    "    record[\"mag\"] = sb_mag\n",
    "    record[\"magerr\"] = sb_magerr\n",
    "    return record"
   ]
  },
  {
   "cell_type": "code",
   "execution_count": 14,
   "id": "1eadcbbd",
   "metadata": {},
   "outputs": [],
   "source": [
    "agg_data = aggregate_data(config, tiles)"
   ]
  },
  {
   "cell_type": "markdown",
   "id": "d93ccc70",
   "metadata": {},
   "source": [
    "# The Data according to Bin Number"
   ]
  },
  {
   "cell_type": "code",
   "execution_count": 15,
   "id": "f54d1864",
   "metadata": {},
   "outputs": [],
   "source": [
    "def data_per_bin(quantities: dict, binnumber: int = 0) -> dict:\n",
    "    \"\"\"\n",
    "    Creates a dictionary which contains the different quantities for each tomographic bin.\n",
    "\n",
    "    Args:\n",
    "        quantities (dict): a dictionary containing the quantities for each bin, for example,\n",
    "        quantities['redshift]['BIN_0']. This is generated from the function aggregate_data\n",
    "        binnumber (int, optional): The tomographic bin number we want to look at. Defaults to 0.\n",
    "\n",
    "    Returns:\n",
    "        dict: a dictionary with all the quantities for that particular bin.\n",
    "    \"\"\"\n",
    "    record_bins = {}\n",
    "    binlabel = f\"BIN_{binnumber}\"\n",
    "    record_bins[\"redshift\"] = pd.concat(quantities[\"redshift\"][binlabel])\n",
    "    record_bins[\"flux\"] = pd.concat(quantities[\"flux\"][binlabel])\n",
    "    record_bins[\"mag\"] = pd.concat(quantities[\"mag\"][binlabel])\n",
    "    record_bins[\"fluxerr\"] = pd.concat(quantities[\"fluxerr\"][binlabel])\n",
    "    record_bins[\"magerr\"] = pd.concat(quantities[\"magerr\"][binlabel])\n",
    "    record_bins[\"binlabel\"] = pd.concat(quantities[\"binlabel\"][binlabel])\n",
    "    return record_bins"
   ]
  },
  {
   "cell_type": "code",
   "execution_count": 16,
   "id": "8ea3f6df",
   "metadata": {},
   "outputs": [],
   "source": [
    "def data_all_bins(config: ConfigDict, agg_data: dict) -> dict:\n",
    "    \"\"\"\n",
    "    Gather the data from each bin in the following format:\n",
    "\n",
    "    record['BIN_0]['redshift']\n",
    "\n",
    "    and so forth\n",
    "\n",
    "    Args:\n",
    "        config (ConfigDict): the main configuration file with all the settings.\n",
    "        agg_data (dict): the aggregated data, generated using the function data_per_bin.\n",
    "\n",
    "    Returns:\n",
    "        dict: a dictionary with the quantities for all the bins.\n",
    "    \"\"\"\n",
    "    record_bins = {}\n",
    "    nbins = len(config.redshift.bounds)\n",
    "    for i in range(nbins):\n",
    "        record_bins[f\"BIN_{i}\"] = data_per_bin(agg_data, binnumber=i)\n",
    "        hp.pickle_save(record_bins[f\"BIN_{i}\"], config.paths.bins, f'bin_{i}')\n",
    "    return record_bins"
   ]
  },
  {
   "cell_type": "code",
   "execution_count": 17,
   "id": "eda5c9d4",
   "metadata": {},
   "outputs": [],
   "source": [
    "all_bins_data = data_all_bins(config, agg_data)"
   ]
  },
  {
   "cell_type": "markdown",
   "id": "b972debb",
   "metadata": {},
   "source": [
    "# Number of Objects per Bin"
   ]
  },
  {
   "cell_type": "code",
   "execution_count": 18,
   "id": "ccd9fdbe",
   "metadata": {},
   "outputs": [
    {
     "name": "stdout",
     "output_type": "stream",
     "text": [
      "Total number of objects in bin 0 is 16306\n",
      "Total number of objects in bin 1 is 30595\n",
      "Total number of objects in bin 2 is 41932\n",
      "Total number of objects in bin 3 is 34336\n",
      "Total number of objects in bin 4 is 44878\n"
     ]
    }
   ],
   "source": [
    "for i in range(5):\n",
    "    print(f\"Total number of objects in bin {i} is {all_bins_data[f'BIN_{i}']['redshift']['Z_B'].shape[0]}\")"
   ]
  },
  {
   "cell_type": "code",
   "execution_count": 19,
   "id": "14a27aa5",
   "metadata": {},
   "outputs": [
    {
     "data": {
      "text/plain": [
       "dict_keys(['redshift', 'flux', 'mag', 'fluxerr', 'magerr', 'binlabel'])"
      ]
     },
     "execution_count": 19,
     "metadata": {},
     "output_type": "execute_result"
    }
   ],
   "source": [
    "all_bins_data['BIN_0'].keys()"
   ]
  },
  {
   "cell_type": "markdown",
   "id": "3a6b9984",
   "metadata": {},
   "source": [
    "# Plottings\n",
    "\n",
    "Here, we just plot some of the quantities for the different bins. "
   ]
  },
  {
   "cell_type": "code",
   "execution_count": 20,
   "id": "626e90fe",
   "metadata": {},
   "outputs": [],
   "source": [
    "def plot_quantities(\n",
    "    config: ConfigDict,\n",
    "    data: dict,\n",
    "    quant=\"redshift\",\n",
    "    zmethod=\"Z_B\",\n",
    "    xlabel=r\"$z$\",\n",
    "    nbins=20,\n",
    "    uselog=False,\n",
    "):\n",
    "    \"\"\"\n",
    "    Plot the distribution of different quantities in each tomographic bin.\n",
    "\n",
    "    Args:\n",
    "        config (ConfigDict): the main configuration file with all the settings\n",
    "        data (dict): the data, which is accessed as: data['BIN_0']['redshift']\n",
    "        quant (str, optional): the quantity we want to plot. Defaults to \"redshift\".\n",
    "        zmethod (str, optional): if we choose redshift, we can choose Z_B or Z_ML. Defaults to \"Z_B\".\n",
    "        xlabel (regexp, optional): the x-label. Defaults to r\"$z$\".\n",
    "        nbins (int, optional): the number of bins we want in the histogram. Defaults to 20.\n",
    "        uselog (bool, optional): apply log base 10 transformation. Defaults to False.\n",
    "    \"\"\"\n",
    "    plt.figure(figsize=(18, 3))\n",
    "\n",
    "    if uselog:\n",
    "        xlabel = r\"$\\textrm{log}_{10}\\;$\" + xlabel\n",
    "\n",
    "    for i in range(len(data)):\n",
    "        plt.subplot(1, 5, i + 1)\n",
    "        plt.title(f\"BIN {i}\", fontsize=12)\n",
    "        if quant == \"redshift\":\n",
    "            plt.hist(\n",
    "                data[f\"BIN_{i}\"][quant][zmethod].values,\n",
    "                density=True,\n",
    "                bins=nbins,\n",
    "                histtype=\"step\",\n",
    "            )\n",
    "        else:\n",
    "            for j in range(config.nband):\n",
    "                values = data[f\"BIN_{i}\"][quant].values[:, j]\n",
    "                if uselog:\n",
    "                    values = np.log10(values)\n",
    "                plt.hist(values, density=True, bins=nbins, histtype=\"step\")\n",
    "        if quant == \"redshift\":\n",
    "            plt.xlim(config.redshift.bounds[i][0], config.redshift.bounds[i][1])\n",
    "        plt.xlabel(xlabel, fontsize=12)\n",
    "        plt.tick_params(axis=\"x\", labelsize=12)\n",
    "        plt.tick_params(axis=\"y\", labelsize=12)\n",
    "    os.makedirs(\"plots\", exist_ok=True)\n",
    "    plt.savefig(f\"plots/tomo_{quant}.pdf\", bbox_inches=\"tight\")\n",
    "    plt.savefig(f\"plots/tomo_{quant}.png\", bbox_inches=\"tight\")\n",
    "    plt.show()"
   ]
  },
  {
   "cell_type": "code",
   "execution_count": 21,
   "id": "afbb771e",
   "metadata": {},
   "outputs": [
    {
     "data": {
      "image/png": "[encoded data removed]",
      "text/plain": [
       "<Figure size 1296x216 with 5 Axes>"
      ]
     },
     "metadata": {
      "needs_background": "light"
     },
     "output_type": "display_data"
    }
   ],
   "source": [
    "plot_quantities(config, all_bins_data, 'redshift', zmethod = 'Z_B', xlabel = r'$z$', uselog=False)"
   ]
  },
  {
   "cell_type": "code",
   "execution_count": 22,
   "id": "85a3a3a0",
   "metadata": {},
   "outputs": [
    {
     "data": {
      "image/png": "[encoded data removed]",
      "text/plain": [
       "<Figure size 1296x216 with 5 Axes>"
      ]
     },
     "metadata": {
      "needs_background": "light"
     },
     "output_type": "display_data"
    }
   ],
   "source": [
    "plot_quantities(config, all_bins_data, 'flux', xlabel = r'$f$', uselog=True)"
   ]
  },
  {
   "cell_type": "code",
   "execution_count": 23,
   "id": "dacc4dfc",
   "metadata": {},
   "outputs": [
    {
     "data": {
      "image/png": "[encoded data removed]",
      "text/plain": [
       "<Figure size 1296x216 with 5 Axes>"
      ]
     },
     "metadata": {
      "needs_background": "light"
     },
     "output_type": "display_data"
    }
   ],
   "source": [
    "plot_quantities(config, all_bins_data, 'mag', xlabel = r'$m$', uselog=False)"
   ]
  },
  {
   "cell_type": "code",
   "execution_count": null,
   "id": "cfe71f70",
   "metadata": {},
   "outputs": [],
   "source": []
  }
 ],
 "metadata": {
  "kernelspec": {
   "display_name": "Python 3",
   "language": "python",
   "name": "python3"
  },
  "language_info": {
   "codemirror_mode": {
    "name": "ipython",
    "version": 3
   },
   "file_extension": ".py",
   "mimetype": "text/x-python",
   "name": "python",
   "nbconvert_exporter": "python",
   "pygments_lexer": "ipython3",
   "version": "3.7.6"
  }
 },
 "nbformat": 4,
 "nbformat_minor": 5
}
