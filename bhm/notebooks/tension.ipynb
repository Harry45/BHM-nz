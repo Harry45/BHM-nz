{
 "cells": [
  {
   "cell_type": "code",
   "execution_count": null,
   "metadata": {},
   "outputs": [],
   "source": [
    "import numpy as np\n",
    "import matplotlib.pylab as plt\n",
    "from matplotlib.patches import Patch\n",
    "from astropy.io import fits\n",
    "\n",
    "plt.rc('text', usetex=True)\n",
    "plt.rc('font',**{'family':'sans-serif','serif':['Palatino']})\n",
    "figSize  = (8, 8)\n",
    "fontSize = 20"
   ]
  },
  {
   "cell_type": "code",
   "execution_count": null,
   "metadata": {},
   "outputs": [],
   "source": [
    "fig, ax = plt.subplots(figsize=(12, 8))\n",
    "ax.axis([0, 1, 0.5, 4.5])\n",
    "\n",
    "# KiDS-1000\n",
    "ax.errorbar(0.761, 1.0, xerr = np.array([[0.033, 0.021]]).T, fmt = 'ro', markersize = 5, capsize=5)\n",
    "ax.text(0.05, 1.0, 'KiDS-1000 (Band Powers)', size=fontSize, color='red')\n",
    "\n",
    "# HSC\n",
    "ax.errorbar(0.780, 1.5, xerr = np.array([[0.030, 0.030]]).T, fmt = 'bo', markersize = 5, capsize=5)\n",
    "ax.text(0.05, 1.5, 'Subaru Hyper Suprime-Cam (Band Powers)', size=fontSize, color='blue')\n",
    "\n",
    "# DES\n",
    "ax.errorbar(0.782, 2.0, xerr = np.array([[0.030, 0.030]]).T, fmt = 'go', markersize = 5, capsize=5)\n",
    "ax.text(0.05, 2.0, 'Dark Energy Survey (2PCFs)', size=fontSize, color='green')\n",
    "\n",
    "# this work\n",
    "ax.errorbar(0.738, 2.5, xerr = np.array([[0.035, 0.036]]).T, fmt = 'ko', markersize = 5, capsize=5)\n",
    "ax.text(0.05, 2.5, 'This work: KV-450 (2PCFs) - Mean of $n(z)$', size=fontSize, color='black')\n",
    "\n",
    "# this work\n",
    "ax.errorbar(0.738, 3.0, xerr = np.array([[0.035, 0.036]]).T, fmt = 'ko', markersize = 5, capsize=5)\n",
    "ax.text(0.05, 3.0, 'This work: KV-450 (2PCFs) - A sample of $n(z)$', size=fontSize, color='black')\n",
    "\n",
    "# KV-450\n",
    "ax.errorbar(0.737, 3.5, xerr = np.array([[0.036, 0.040]]).T, fmt = 'o', markersize = 5, capsize=5, color = 'peru')\n",
    "ax.text(0.05, 3.5, 'KV-450 (2PCFs)', size=fontSize, color='peru')\n",
    "\n",
    "# Planck\n",
    "ax.errorbar(0.834, 4., xerr = np.array([[0.016, 0.016]]).T, fmt = 'o', markersize = 5, capsize=5, color = 'purple')\n",
    "ax.text(0.05, 4., 'Planck 2018', size=fontSize, color='purple')\n",
    "\n",
    "ax.set_yticks([])\n",
    "ax.set_xticks([0.7, 0.8, 0.9, 1.0])\n",
    "ax.set_xlabel(r'$S_{8}\\equiv\\sigma_{8}\\sqrt{\\Omega_{\\textrm{m}}/0.3}$', fontsize = fontSize, labelpad=10)\n",
    "ax.tick_params(axis='x', labelsize=fontSize, pad = 10)\n",
    "\n",
    "# plt.savefig('plots/tensions.pdf', bbox_inches = 'tight')\n",
    "plt.show()"
   ]
  }
 ],
 "metadata": {
  "kernelspec": {
   "display_name": "Python 3",
   "language": "python",
   "name": "python3"
  },
  "language_info": {
   "codemirror_mode": {
    "name": "ipython",
    "version": 3
   },
   "file_extension": ".py",
   "mimetype": "text/x-python",
   "name": "python",
   "nbconvert_exporter": "python",
   "pygments_lexer": "ipython3",
   "version": "3.7.6"
  }
 },
 "nbformat": 4,
 "nbformat_minor": 4
}
